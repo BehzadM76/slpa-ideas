{
  "cells": [
    {
      "cell_type": "markdown",
      "source": [
        "## **Import and install requirements**"
      ],
      "metadata": {
        "id": "YiZ9CAShIYRx"
      }
    },
    {
      "cell_type": "code",
      "source": [
        "import numpy as np\n",
        "import copy\n",
        "from collections import defaultdict\n",
        "import networkx as nx\n",
        "import matplotlib.pyplot as plt"
      ],
      "metadata": {
        "id": "9ONftYyiIfQ1"
      },
      "execution_count": null,
      "outputs": []
    },
    {
      "cell_type": "code",
      "execution_count": null,
      "metadata": {
        "colab": {
          "base_uri": "https://localhost:8080/"
        },
        "id": "PWJqAg9iCmlw",
        "outputId": "4d4fd57c-5e8a-4d31-edfc-d0b6b9b0c73b"
      },
      "outputs": [
        {
          "output_type": "stream",
          "name": "stdout",
          "text": [
            "Requirement already satisfied: networkx in /usr/local/lib/python3.10/dist-packages (3.2.1)\n",
            "Requirement already satisfied: matplotlib in /usr/local/lib/python3.10/dist-packages (3.7.1)\n",
            "Requirement already satisfied: contourpy>=1.0.1 in /usr/local/lib/python3.10/dist-packages (from matplotlib) (1.2.0)\n",
            "Requirement already satisfied: cycler>=0.10 in /usr/local/lib/python3.10/dist-packages (from matplotlib) (0.12.1)\n",
            "Requirement already satisfied: fonttools>=4.22.0 in /usr/local/lib/python3.10/dist-packages (from matplotlib) (4.49.0)\n",
            "Requirement already satisfied: kiwisolver>=1.0.1 in /usr/local/lib/python3.10/dist-packages (from matplotlib) (1.4.5)\n",
            "Requirement already satisfied: numpy>=1.20 in /usr/local/lib/python3.10/dist-packages (from matplotlib) (1.25.2)\n",
            "Requirement already satisfied: packaging>=20.0 in /usr/local/lib/python3.10/dist-packages (from matplotlib) (24.0)\n",
            "Requirement already satisfied: pillow>=6.2.0 in /usr/local/lib/python3.10/dist-packages (from matplotlib) (9.4.0)\n",
            "Requirement already satisfied: pyparsing>=2.3.1 in /usr/local/lib/python3.10/dist-packages (from matplotlib) (3.1.2)\n",
            "Requirement already satisfied: python-dateutil>=2.7 in /usr/local/lib/python3.10/dist-packages (from matplotlib) (2.8.2)\n",
            "Requirement already satisfied: six>=1.5 in /usr/local/lib/python3.10/dist-packages (from python-dateutil>=2.7->matplotlib) (1.16.0)\n"
          ]
        }
      ],
      "source": [
        "pip install networkx matplotlib"
      ]
    },
    {
      "cell_type": "markdown",
      "source": [
        "## **Evaluation function**"
      ],
      "metadata": {
        "id": "FZpvj3sw806T"
      }
    },
    {
      "cell_type": "code",
      "source": [
        "pip install cdlib"
      ],
      "metadata": {
        "colab": {
          "base_uri": "https://localhost:8080/"
        },
        "id": "yA-i6n018g23",
        "outputId": "5a251c36-1f8d-4224-f2f3-d0987db4b1b6"
      },
      "execution_count": null,
      "outputs": [
        {
          "output_type": "stream",
          "name": "stdout",
          "text": [
            "Collecting cdlib\n",
            "  Downloading cdlib-0.3.0-py3-none-any.whl (230 kB)\n",
            "\u001b[2K     \u001b[90m━━━━━━━━━━━━━━━━━━━━━━━━━━━━━━━━━━━━━━━━\u001b[0m \u001b[32m230.3/230.3 kB\u001b[0m \u001b[31m2.0 MB/s\u001b[0m eta \u001b[36m0:00:00\u001b[0m\n",
            "\u001b[?25hRequirement already satisfied: numpy in /usr/local/lib/python3.10/dist-packages (from cdlib) (1.25.2)\n",
            "Requirement already satisfied: matplotlib in /usr/local/lib/python3.10/dist-packages (from cdlib) (3.7.1)\n",
            "Requirement already satisfied: scikit-learn in /usr/local/lib/python3.10/dist-packages (from cdlib) (1.2.2)\n",
            "Requirement already satisfied: tqdm in /usr/local/lib/python3.10/dist-packages (from cdlib) (4.66.2)\n",
            "Requirement already satisfied: networkx>=3.0 in /usr/local/lib/python3.10/dist-packages (from cdlib) (3.2.1)\n",
            "Collecting demon (from cdlib)\n",
            "  Downloading demon-2.0.6-py3-none-any.whl (7.3 kB)\n",
            "Requirement already satisfied: python-louvain>=0.16 in /usr/local/lib/python3.10/dist-packages (from cdlib) (0.16)\n",
            "Collecting nf1 (from cdlib)\n",
            "  Downloading nf1-0.0.4-py3-none-any.whl (18 kB)\n",
            "Requirement already satisfied: scipy in /usr/local/lib/python3.10/dist-packages (from cdlib) (1.11.4)\n",
            "Collecting pulp (from cdlib)\n",
            "  Downloading PuLP-2.8.0-py3-none-any.whl (17.7 MB)\n",
            "\u001b[2K     \u001b[90m━━━━━━━━━━━━━━━━━━━━━━━━━━━━━━━━━━━━━━━━\u001b[0m \u001b[32m17.7/17.7 MB\u001b[0m \u001b[31m42.8 MB/s\u001b[0m eta \u001b[36m0:00:00\u001b[0m\n",
            "\u001b[?25hRequirement already satisfied: seaborn in /usr/local/lib/python3.10/dist-packages (from cdlib) (0.13.1)\n",
            "Requirement already satisfied: pandas in /usr/local/lib/python3.10/dist-packages (from cdlib) (1.5.3)\n",
            "Collecting eva-lcd (from cdlib)\n",
            "  Downloading eva_lcd-0.1.1-py3-none-any.whl (9.2 kB)\n",
            "Collecting bimlpa (from cdlib)\n",
            "  Downloading bimlpa-0.1.2-py3-none-any.whl (7.0 kB)\n",
            "Collecting markov-clustering (from cdlib)\n",
            "  Downloading markov_clustering-0.0.6.dev0-py3-none-any.whl (6.3 kB)\n",
            "Collecting python-igraph>=0.10 (from cdlib)\n",
            "  Downloading python_igraph-0.11.4-py3-none-any.whl (9.1 kB)\n",
            "Collecting angelcommunity (from cdlib)\n",
            "  Downloading angelcommunity-2.0.0-py3-none-any.whl (10 kB)\n",
            "Requirement already satisfied: pooch in /usr/local/lib/python3.10/dist-packages (from cdlib) (1.8.1)\n",
            "Collecting dynetx (from cdlib)\n",
            "  Downloading dynetx-0.3.2-py3-none-any.whl (39 kB)\n",
            "Collecting thresholdclustering (from cdlib)\n",
            "  Downloading thresholdclustering-1.1-py3-none-any.whl (5.3 kB)\n",
            "Collecting python-Levenshtein (from cdlib)\n",
            "  Downloading python_Levenshtein-0.25.0-py3-none-any.whl (9.4 kB)\n",
            "Collecting igraph==0.11.4 (from python-igraph>=0.10->cdlib)\n",
            "  Downloading igraph-0.11.4-cp39-abi3-manylinux_2_17_x86_64.manylinux2014_x86_64.whl (3.3 MB)\n",
            "\u001b[2K     \u001b[90m━━━━━━━━━━━━━━━━━━━━━━━━━━━━━━━━━━━━━━━━\u001b[0m \u001b[32m3.3/3.3 MB\u001b[0m \u001b[31m46.5 MB/s\u001b[0m eta \u001b[36m0:00:00\u001b[0m\n",
            "\u001b[?25hCollecting texttable>=1.6.2 (from igraph==0.11.4->python-igraph>=0.10->cdlib)\n",
            "  Downloading texttable-1.7.0-py2.py3-none-any.whl (10 kB)\n",
            "Requirement already satisfied: future in /usr/local/lib/python3.10/dist-packages (from angelcommunity->cdlib) (0.18.3)\n",
            "Requirement already satisfied: decorator in /usr/local/lib/python3.10/dist-packages (from dynetx->cdlib) (4.4.2)\n",
            "Requirement already satisfied: contourpy>=1.0.1 in /usr/local/lib/python3.10/dist-packages (from matplotlib->cdlib) (1.2.0)\n",
            "Requirement already satisfied: cycler>=0.10 in /usr/local/lib/python3.10/dist-packages (from matplotlib->cdlib) (0.12.1)\n",
            "Requirement already satisfied: fonttools>=4.22.0 in /usr/local/lib/python3.10/dist-packages (from matplotlib->cdlib) (4.49.0)\n",
            "Requirement already satisfied: kiwisolver>=1.0.1 in /usr/local/lib/python3.10/dist-packages (from matplotlib->cdlib) (1.4.5)\n",
            "Requirement already satisfied: packaging>=20.0 in /usr/local/lib/python3.10/dist-packages (from matplotlib->cdlib) (24.0)\n",
            "Requirement already satisfied: pillow>=6.2.0 in /usr/local/lib/python3.10/dist-packages (from matplotlib->cdlib) (9.4.0)\n",
            "Requirement already satisfied: pyparsing>=2.3.1 in /usr/local/lib/python3.10/dist-packages (from matplotlib->cdlib) (3.1.2)\n",
            "Requirement already satisfied: python-dateutil>=2.7 in /usr/local/lib/python3.10/dist-packages (from matplotlib->cdlib) (2.8.2)\n",
            "Requirement already satisfied: pytz>=2020.1 in /usr/local/lib/python3.10/dist-packages (from pandas->cdlib) (2023.4)\n",
            "Requirement already satisfied: platformdirs>=2.5.0 in /usr/local/lib/python3.10/dist-packages (from pooch->cdlib) (4.2.0)\n",
            "Requirement already satisfied: requests>=2.19.0 in /usr/local/lib/python3.10/dist-packages (from pooch->cdlib) (2.31.0)\n",
            "Collecting Levenshtein==0.25.0 (from python-Levenshtein->cdlib)\n",
            "  Downloading Levenshtein-0.25.0-cp310-cp310-manylinux_2_17_x86_64.manylinux2014_x86_64.whl (177 kB)\n",
            "\u001b[2K     \u001b[90m━━━━━━━━━━━━━━━━━━━━━━━━━━━━━━━━━━━━━━━━\u001b[0m \u001b[32m177.4/177.4 kB\u001b[0m \u001b[31m16.9 MB/s\u001b[0m eta \u001b[36m0:00:00\u001b[0m\n",
            "\u001b[?25hCollecting rapidfuzz<4.0.0,>=3.1.0 (from Levenshtein==0.25.0->python-Levenshtein->cdlib)\n",
            "  Downloading rapidfuzz-3.6.2-cp310-cp310-manylinux_2_17_x86_64.manylinux2014_x86_64.whl (3.4 MB)\n",
            "\u001b[2K     \u001b[90m━━━━━━━━━━━━━━━━━━━━━━━━━━━━━━━━━━━━━━━━\u001b[0m \u001b[32m3.4/3.4 MB\u001b[0m \u001b[31m32.5 MB/s\u001b[0m eta \u001b[36m0:00:00\u001b[0m\n",
            "\u001b[?25hRequirement already satisfied: joblib>=1.1.1 in /usr/local/lib/python3.10/dist-packages (from scikit-learn->cdlib) (1.3.2)\n",
            "Requirement already satisfied: threadpoolctl>=2.0.0 in /usr/local/lib/python3.10/dist-packages (from scikit-learn->cdlib) (3.3.0)\n",
            "Requirement already satisfied: six>=1.5 in /usr/local/lib/python3.10/dist-packages (from python-dateutil>=2.7->matplotlib->cdlib) (1.16.0)\n",
            "Requirement already satisfied: charset-normalizer<4,>=2 in /usr/local/lib/python3.10/dist-packages (from requests>=2.19.0->pooch->cdlib) (3.3.2)\n",
            "Requirement already satisfied: idna<4,>=2.5 in /usr/local/lib/python3.10/dist-packages (from requests>=2.19.0->pooch->cdlib) (3.6)\n",
            "Requirement already satisfied: urllib3<3,>=1.21.1 in /usr/local/lib/python3.10/dist-packages (from requests>=2.19.0->pooch->cdlib) (2.0.7)\n",
            "Requirement already satisfied: certifi>=2017.4.17 in /usr/local/lib/python3.10/dist-packages (from requests>=2.19.0->pooch->cdlib) (2024.2.2)\n",
            "Installing collected packages: texttable, thresholdclustering, rapidfuzz, pulp, igraph, eva-lcd, dynetx, demon, python-igraph, Levenshtein, python-Levenshtein, nf1, markov-clustering, bimlpa, angelcommunity, cdlib\n",
            "Successfully installed Levenshtein-0.25.0 angelcommunity-2.0.0 bimlpa-0.1.2 cdlib-0.3.0 demon-2.0.6 dynetx-0.3.2 eva-lcd-0.1.1 igraph-0.11.4 markov-clustering-0.0.6.dev0 nf1-0.0.4 pulp-2.8.0 python-Levenshtein-0.25.0 python-igraph-0.11.4 rapidfuzz-3.6.2 texttable-1.7.0 thresholdclustering-1.1\n"
          ]
        }
      ]
    },
    {
      "cell_type": "code",
      "source": [
        "import networkx as nx\n",
        "from cdlib.utils import convert_graph_formats\n",
        "from collections import defaultdict\n",
        "from collections import namedtuple\n",
        "\n",
        "\n",
        "\n",
        "def modularity_overlap_signed_new(\n",
        "    graph: nx.Graph, communities: list, weight: str = None\n",
        "):\n",
        "    \"\"\"Determines the Overlapping Modularity of a partition C on a graph G for signed networks.\n",
        "\n",
        "    Overlapping Modularity for signed networks is defined as\n",
        "\n",
        "     .. math:: Q_{c_{r}}^{ov} = \\\\frac{1}{2m^+ + 2m^-} \\\\sum_{i,j} \\\\frac{1}{O_i O_j} [A_{ij} - \\\\left(\\\\frac{d_i^+ d_j^+}{2m^+} - \\\\frac{d_i^- d_j^-}{2m^-}\\\\right)] \\\\delta(i, j)\n",
        "\n",
        "    where:\n",
        "        - \\(A_{ij}\\) is the weight of the edge between nodes \\(i\\) and \\(j\\),\n",
        "        - \\(d_i^+\\) and \\(d_i^-\\) are the positive and negative degrees of node \\(i\\), respectively,\n",
        "        - \\(2m^+\\) and \\(2m^-\\) are the sums of weights of positive and negative edges in the network, respectively,\n",
        "        - \\(O_i\\) and \\(O_j\\) are the number of communities which include vertex \\(i\\) and \\(j\\) respectively,\n",
        "        - \\(\\delta(i, j)\\) is the Kronecker delta function, equals to 1 when both nodes \\(i\\) and \\(j\\) belong to the same community, and 0 otherwise.\n",
        "\n",
        "    :param graph: a networkx/igraph object\n",
        "    :param communities: NodeClustering object\n",
        "    :param weight: label identifying the edge weight parameter name (if present), default None\n",
        "    :return: FitnessResult object\n",
        "\n",
        "    \"\"\"\n",
        "    FitnessResult = namedtuple(\"FitnessResult\", \"score\")\n",
        "    graph = convert_graph_formats(graph, nx.Graph)\n",
        "    E = len(graph.edges)\n",
        "    # print('E:',E)\n",
        "\n",
        "    # Calculate positive and negative degrees\n",
        "    pos_degrees = {node: 0 for node in graph.nodes()}\n",
        "    neg_degrees = {node: 0 for node in graph.nodes()}\n",
        "    for u, v, data in graph.edges(data=True):\n",
        "        s = data.get('sign')\n",
        "        if s > 0:\n",
        "          pos_degrees[u]+=1\n",
        "          pos_degrees[v]+=1\n",
        "        else:\n",
        "          neg_degrees[u]+=1\n",
        "          neg_degrees[v]+=1\n",
        "\n",
        "    # print('neg degree:',neg_degrees)\n",
        "    # print('pos degree:',pos_degrees)\n",
        "\n",
        "    # Calculate total edge weight for positive and negative edges separately\n",
        "    total_pos_edge_weight = sum(s for u, v, s in graph.edges(data='sign') if s >= 0)\n",
        "    # print('pos total:',total_pos_edge_weight)\n",
        "    total_neg_edge_weight = sum(abs(s) for u, v, s in graph.edges(data='sign') if s < 0)\n",
        "    # print('neg total:',total_neg_edge_weight)\n",
        "\n",
        "    m_pos = total_pos_edge_weight / 2\n",
        "    m_neg = total_neg_edge_weight / 2\n",
        "\n",
        "    QovTotal = 0\n",
        "\n",
        "    for nodes in communities:\n",
        "        nCommNodes = len(nodes)\n",
        "\n",
        "        # the contribution of communities with 1 node is 0\n",
        "        if nCommNodes <= 1:\n",
        "            continue\n",
        "\n",
        "        for i in range(nCommNodes):\n",
        "            for j in range(i+1, nCommNodes):\n",
        "                node_i = nodes[i]\n",
        "                node_j = nodes[j]\n",
        "\n",
        "                # Calculate the Kronecker delta\n",
        "                delta = 1 if node_i in nodes and node_j in nodes else 0\n",
        "\n",
        "                # Calculate O_i and O_j\n",
        "                Oi = len([c for c in communities if node_i in c])\n",
        "                Oj = len([c for c in communities if node_j in c])\n",
        "\n",
        "                # Calculate the modularity contribution\n",
        "                # print(f\"node1:{node_i}\\nnode2:{node_j}\")\n",
        "                # a = graph.get_edge_data(node_i, node_j, default={'sign': 0}).get('sign',0)\n",
        "                # b = (pos_degrees[node_i] * pos_degrees[node_j]) / (2 * E)\n",
        "                # c = (neg_degrees[node_i] * neg_degrees[node_j]) / (2 * E)\n",
        "                # d = 1 / (Oi * Oj)\n",
        "                # print(f\"a:{a}\\nb:{b}\\nc:{c}\\nd:{d}\")\n",
        "                mod_contrib = ((graph.get_edge_data(node_i, node_j, default={'sign': 0}).get('sign',0)) -\n",
        "                               (((pos_degrees[node_i] * pos_degrees[node_j]) / (2 * E)) -\n",
        "                               ((neg_degrees[node_i] * neg_degrees[node_j]) / (2 * E)))) * (1 / (Oi * Oj))\n",
        "                # print(f\"mod:{mod_contrib}\")\n",
        "\n",
        "                QovTotal += mod_contrib * delta\n",
        "\n",
        "    QovTotal /= (2 * m_pos + 2 * m_neg)\n",
        "\n",
        "    return FitnessResult(score=QovTotal)\n"
      ],
      "metadata": {
        "id": "mG5gy5iF85xI"
      },
      "execution_count": null,
      "outputs": []
    },
    {
      "cell_type": "markdown",
      "source": [
        "## **Read Datasets & generate graph & vizualize them**"
      ],
      "metadata": {
        "id": "prbG5O57Inv_"
      }
    },
    {
      "cell_type": "code",
      "source": [
        "# import drive\n",
        "from google.colab import drive\n",
        "drive.mount('/content/drive')"
      ],
      "metadata": {
        "colab": {
          "base_uri": "https://localhost:8080/"
        },
        "id": "j8JPUmjpJpwj",
        "outputId": "c32aea18-3aa1-4f9a-e44a-f2eaf0f1e3a8"
      },
      "execution_count": null,
      "outputs": [
        {
          "output_type": "stream",
          "name": "stdout",
          "text": [
            "Mounted at /content/drive\n"
          ]
        }
      ]
    },
    {
      "cell_type": "markdown",
      "source": [
        "### **Highland Tribes dataset**"
      ],
      "metadata": {
        "id": "nXX5R218IrqX"
      }
    },
    {
      "cell_type": "code",
      "source": [
        "highland_graph = nx.Graph()\n",
        "\n",
        "with open(\"/content/drive/MyDrive/out.ucidata-gama\", 'r') as file:\n",
        "  lines = file.readlines()\n",
        "\n",
        "# Skip the first two lines as they contain metadata\n",
        "for line in lines[2:]:\n",
        "    # Split the line into tokens\n",
        "    tokens = line.strip().split('\\t')\n",
        "\n",
        "    # Extract nodes and sign from the tokens\n",
        "    node1, node2, sign = int(tokens[0]), int(tokens[1]), int(tokens[2])\n",
        "\n",
        "    # Add the edge with the sign\n",
        "    highland_graph.add_edge(node1, node2, sign=sign)\n",
        "\n",
        "# Draw the signed graph\n",
        "pos = nx.spring_layout(highland_graph)\n",
        "edge_labels = {(i, j): f\"{highland_graph[i][j]['sign']}\" for i, j in highland_graph.edges()}\n",
        "\n",
        "nx.draw(highland_graph, pos, with_labels=True, font_weight='bold', node_color='lightblue')\n",
        "nx.draw_networkx_edge_labels(highland_graph, pos, edge_labels=edge_labels)\n",
        "\n",
        "plt.show()"
      ],
      "metadata": {
        "colab": {
          "base_uri": "https://localhost:8080/",
          "height": 516
        },
        "id": "AlNMefLYIqp4",
        "outputId": "1e68d600-6578-4725-9857-740ca13d4642"
      },
      "execution_count": null,
      "outputs": [
        {
          "output_type": "display_data",
          "data": {
            "text/plain": [
              "<Figure size 640x480 with 1 Axes>"
            ],
            "image/png": "[encoded data removed]"
          },
          "metadata": {}
        }
      ]
    },
    {
      "cell_type": "markdown",
      "source": [
        "### **Pajek dataset**"
      ],
      "metadata": {
        "id": "iA3-XRQHJRVz"
      }
    },
    {
      "cell_type": "code",
      "source": [
        "pajek_graph = nx.Graph()\n",
        "\n",
        "with open(\"/content/drive/MyDrive/pajek-dataset.txt\", 'r') as file:\n",
        "  lines = file.readlines()\n",
        "\n",
        "# Skip the first two lines as they contain metadata\n",
        "for line in lines[:-1]:\n",
        "    # Split the line into tokens\n",
        "    tokens = line.strip().split('\\t')\n",
        "\n",
        "    # Extract nodes and sign from the tokens\n",
        "    node1, node2, sign = int(tokens[0]), int(tokens[1]), int(tokens[2])\n",
        "\n",
        "    # Add the edge with the sign\n",
        "    pajek_graph.add_edge(node1, node2, sign=sign)\n",
        "\n",
        "\n",
        "# Draw the signed graph\n",
        "pos = nx.spring_layout(pajek_graph)\n",
        "edge_labels = {(i, j): f\"{pajek_graph[i][j]['sign']}\" for i, j in pajek_graph.edges()}\n",
        "\n",
        "nx.draw(pajek_graph, pos, with_labels=True, font_weight='bold', node_color='lightblue')\n",
        "nx.draw_networkx_edge_labels(pajek_graph, pos, edge_labels=edge_labels)\n",
        "\n",
        "plt.show()\n"
      ],
      "metadata": {
        "colab": {
          "base_uri": "https://localhost:8080/",
          "height": 516
        },
        "outputId": "b87e8fb8-8f73-4f04-b876-3b542f9aaf97",
        "id": "NibztUS5LB0-"
      },
      "execution_count": null,
      "outputs": [
        {
          "output_type": "display_data",
          "data": {
            "text/plain": [
              "<Figure size 640x480 with 1 Axes>"
            ],
            "image/png": "[encoded data removed]"
          },
          "metadata": {}
        }
      ]
    },
    {
      "cell_type": "markdown",
      "source": [
        "## **Weighting graphs with Jaccard method**"
      ],
      "metadata": {
        "id": "aih-ILokMkQq"
      }
    },
    {
      "cell_type": "code",
      "source": [
        "#weighting graph function\n",
        "def weight_graph(G):\n",
        "  for u in list(G.nodes):\n",
        "    u_pos = [u]\n",
        "    u_neg = []\n",
        "    for e in G[u].keys():\n",
        "      if G[u][e]['sign'] == 1:\n",
        "        u_pos.append(e)\n",
        "      else:\n",
        "        u_neg.append(e)\n",
        "\n",
        "    for v in list(G.nodes):\n",
        "      if G.has_edge(u,v) and u!=v:\n",
        "        v_pos = [v]\n",
        "        v_neg = []\n",
        "        for e in G[v].keys():\n",
        "          if G[v][e]['sign'] == 1:\n",
        "            v_pos.append(e)\n",
        "          else:\n",
        "            v_neg.append(e)\n",
        "\n",
        "        N_u = u_pos + u_neg\n",
        "        N_v = v_pos + v_neg\n",
        "        s_pos = float(len(set(u_pos).intersection(set(v_pos)))) + float(len(set(u_neg).intersection(set(v_neg))))\n",
        "        s_neg = float(len(set(u_pos).intersection(set(v_neg)))) + float(len(set(u_neg).intersection(set(v_pos))))\n",
        "        sim = (s_pos - s_neg) / float(len(set(N_u).union(set(N_v))))\n",
        "        G[u][v]['weight'] = sim\n",
        "\n",
        "        # print(f\"weight between {u} and {v}: {G[u][v]['weight']}\")\n",
        "        # print('----------------------------------')"
      ],
      "metadata": {
        "id": "OGVhJ0fyMy_O"
      },
      "execution_count": null,
      "outputs": []
    },
    {
      "cell_type": "code",
      "source": [
        "#weighting highland dataset\n",
        "weight_graph(highland_graph)\n",
        "\n",
        "#weighting Pajek dataset\n",
        "weight_graph(pajek_graph)"
      ],
      "metadata": {
        "id": "O7qJqcC1NAC6"
      },
      "execution_count": null,
      "outputs": []
    },
    {
      "cell_type": "markdown",
      "source": [
        "# **Main SLPA**"
      ],
      "metadata": {
        "id": "tnPnV9UmAu3f"
      }
    },
    {
      "cell_type": "code",
      "execution_count": null,
      "metadata": {
        "id": "ZQ17tP9qQINQ"
      },
      "outputs": [],
      "source": [
        "def slpa_nx(G, T, r):\n",
        "    \"\"\"\n",
        "    Speaker-Listener Label Propagation Algorithm (SLPA)\n",
        "    see http://arxiv.org/abs/1109.5720\n",
        "    \"\"\"\n",
        "\n",
        "    # Stage 1: Initialization\n",
        "    memory = {i: {i: 1} for i in G.nodes()}\n",
        "\n",
        "    # Stage 2: Evolution\n",
        "    for t in range(T):\n",
        "\n",
        "        listeners_order = list(G.nodes())\n",
        "        np.random.shuffle(listeners_order)\n",
        "\n",
        "        for listener in listeners_order:\n",
        "            speakers = G[listener].keys()\n",
        "            if len(speakers) == 0:\n",
        "                continue\n",
        "\n",
        "            labels = defaultdict(int)\n",
        "\n",
        "            for j, speaker in enumerate(speakers):\n",
        "                # Speaker Rule\n",
        "                total = float(sum(memory[speaker].values()))\n",
        "                labels[\n",
        "                    list(memory[speaker].keys())[\n",
        "                        np.random.multinomial(\n",
        "                            1, [freq / total for freq in memory[speaker].values()]\n",
        "                        ).argmax()\n",
        "                    ]\n",
        "                ] += 1\n",
        "\n",
        "            # Listener Rule\n",
        "            accepted_label = max(labels, key=labels.get)\n",
        "\n",
        "            # Update listener memory\n",
        "            if accepted_label in memory[listener]:\n",
        "                memory[listener][accepted_label] += 1\n",
        "            else:\n",
        "                memory[listener][accepted_label] = 1\n",
        "\n",
        "    # Stage 3:\n",
        "    for node, mem in memory.items():\n",
        "        its = copy.copy(list(mem.items()))\n",
        "        for label, freq in its:\n",
        "            if freq / float(T + 1)  <  r:\n",
        "                del mem[label]\n",
        "\n",
        "    # Find nodes membership\n",
        "    communities = {}\n",
        "    for node, mem in memory.items():\n",
        "        for label in mem.keys():\n",
        "            if label in communities:\n",
        "                communities[label].add(node)\n",
        "            else:\n",
        "                communities[label] = {node}\n",
        "\n",
        "    # Remove nested communities\n",
        "    nested_communities = set()\n",
        "    keys = list(communities.keys())\n",
        "    for i, label0 in enumerate(keys[:-1]):\n",
        "        comm0 = communities[label0]\n",
        "        for label1 in keys[i + 1 :]:\n",
        "            comm1 = communities[label1]\n",
        "            if comm0.issubset(comm1):\n",
        "                nested_communities.add(label0)\n",
        "            elif comm0.issuperset(comm1):\n",
        "                nested_communities.add(label1)\n",
        "\n",
        "    for comm in nested_communities:\n",
        "        del communities[comm]\n",
        "\n",
        "    return [list(c) for c in communities.values()]\n"
      ]
    },
    {
      "cell_type": "markdown",
      "source": [
        "## **Ideas to change SLPA for sigend networks**"
      ],
      "metadata": {
        "id": "InB_SwaBLZQD"
      }
    },
    {
      "cell_type": "markdown",
      "source": [
        "### **Ideas without considering edges weights**"
      ],
      "metadata": {
        "id": "BG7OaFnQOBNj"
      }
    },
    {
      "cell_type": "markdown",
      "source": [
        "### **idea #1**"
      ],
      "metadata": {
        "id": "Zxaj6uhDMO-8"
      }
    },
    {
      "cell_type": "code",
      "execution_count": null,
      "metadata": {
        "id": "xOMHu2_N_3En"
      },
      "outputs": [],
      "source": [
        "def signed_slpa_v1(G, T, r):\n",
        "    \"\"\"\n",
        "    Speaker-Listener Label Propagation Algorithm (SLPA)\n",
        "    see http://arxiv.org/abs/1109.5720\n",
        "    \"\"\"\n",
        "\n",
        "    # Stage 1: Initialization\n",
        "    memory = {i: {i: 1} for i in G.nodes()}\n",
        "\n",
        "    # Stage 2: Evolution\n",
        "    for t in range(T):\n",
        "\n",
        "        listeners_order = list(G.nodes())\n",
        "        np.random.shuffle(listeners_order)\n",
        "\n",
        "        for listener in listeners_order:\n",
        "            speakers = G[listener].keys()\n",
        "            if len(speakers) == 0:\n",
        "                continue\n",
        "\n",
        "            labels = defaultdict(int)\n",
        "\n",
        "            for j, speaker in enumerate(speakers):\n",
        "                # Speaker Rule: Based on the sign of edge between speaker and listener\n",
        "                total = float(sum(memory[speaker].values()))\n",
        "                if G[listener][speaker]['sign'] == 1:\n",
        "                    labels[\n",
        "                        list(memory[speaker].keys())[\n",
        "                            np.random.multinomial(\n",
        "                                1, [freq / total for freq in memory[speaker].values()]\n",
        "                            ).argmax()\n",
        "                        ]\n",
        "                    ] += 1\n",
        "\n",
        "                else:\n",
        "                    labels[\n",
        "                        list(memory[speaker].keys())[\n",
        "                            np.random.multinomial(\n",
        "                                1, [freq / total for freq in memory[speaker].values()]\n",
        "                            ).argmax()\n",
        "                        ]\n",
        "                    ] -= 1\n",
        "\n",
        "\n",
        "            # Listener Rule\n",
        "            accepted_label = max(labels, key=labels.get)\n",
        "\n",
        "            # Update listener memory\n",
        "            if accepted_label in memory[listener]:\n",
        "                memory[listener][accepted_label] += 1\n",
        "            else:\n",
        "                memory[listener][accepted_label] = 1\n",
        "\n",
        "    # Stage 3:\n",
        "    for node, mem in memory.items():\n",
        "        its = copy.copy(list(mem.items()))\n",
        "        for label, freq in its:\n",
        "            if freq / float(T + 1)  <  r:\n",
        "                del mem[label]\n",
        "\n",
        "    # Find nodes membership\n",
        "    communities = {}\n",
        "    for node, mem in memory.items():\n",
        "        for label in mem.keys():\n",
        "            if label in communities:\n",
        "                communities[label].add(node)\n",
        "            else:\n",
        "                communities[label] = {node}\n",
        "\n",
        "    # Remove nested communities\n",
        "    nested_communities = set()\n",
        "    keys = list(communities.keys())\n",
        "    for i, label0 in enumerate(keys[:-1]):\n",
        "        comm0 = communities[label0]\n",
        "        for label1 in keys[i + 1 :]:\n",
        "            comm1 = communities[label1]\n",
        "            if comm0.issubset(comm1):\n",
        "                nested_communities.add(label0)\n",
        "            elif comm0.issuperset(comm1):\n",
        "                nested_communities.add(label1)\n",
        "\n",
        "    for comm in nested_communities:\n",
        "        del communities[comm]\n",
        "\n",
        "    return [list(c) for c in communities.values()]"
      ]
    },
    {
      "cell_type": "markdown",
      "source": [
        "**implement idea #1 on datasets**"
      ],
      "metadata": {
        "id": "COL5e3eAhr1c"
      }
    },
    {
      "cell_type": "code",
      "source": [
        "#implement idea #1 on highland dataset\n",
        "highland_coms_1 = signed_slpa_v1(highland_graph,21,r=0.1)\n",
        "print(highland_coms_1)"
      ],
      "metadata": {
        "id": "QOzMt9jzh-DT",
        "colab": {
          "base_uri": "https://localhost:8080/"
        },
        "outputId": "906372bc-44e4-4219-9c38-1392aa4e5842"
      },
      "execution_count": null,
      "outputs": [
        {
          "output_type": "stream",
          "name": "stdout",
          "text": [
            "[[16, 1, 2, 15], [3, 4, 5, 6, 7, 8, 11, 12], [5, 9, 10, 13, 14]]\n"
          ]
        }
      ]
    },
    {
      "cell_type": "code",
      "source": [
        "#implement idea #1 on pajek dataset\n",
        "pajek_coms_1 = signed_slpa_v1(pajek_graph,21,r=0.1)\n",
        "print(pajek_coms_1)"
      ],
      "metadata": {
        "id": "uXcIDdzAkUEO",
        "colab": {
          "base_uri": "https://localhost:8080/"
        },
        "outputId": "7c71bc20-4150-4af6-e1a9-680a6e45d5b0"
      },
      "execution_count": null,
      "outputs": [
        {
          "output_type": "stream",
          "name": "stdout",
          "text": [
            "[[1, 3, 6, 8, 9], [2, 4, 5, 7, 10]]\n"
          ]
        }
      ]
    },
    {
      "cell_type": "markdown",
      "source": [
        "**Evaluation idea #1 algorithm on datasets**"
      ],
      "metadata": {
        "id": "_woehp3q-x1Z"
      }
    },
    {
      "cell_type": "code",
      "source": [
        "#evaluation idea #1 on highland dataset\n",
        "modularity_overlap_signed_new(highland_graph, highland_coms_1)"
      ],
      "metadata": {
        "colab": {
          "base_uri": "https://localhost:8080/"
        },
        "id": "opvHs2uw-maL",
        "outputId": "a689fa5e-bd43-4d67-bbcd-597d8a92c329"
      },
      "execution_count": null,
      "outputs": [
        {
          "output_type": "execute_result",
          "data": {
            "text/plain": [
              "FitnessResult(score=0.43467598097502974)"
            ]
          },
          "metadata": {},
          "execution_count": 68
        }
      ]
    },
    {
      "cell_type": "code",
      "source": [
        "#evaluation idea #1 on pajek dataset\n",
        "modularity_overlap_signed_new(pajek_graph, pajek_coms_1)"
      ],
      "metadata": {
        "colab": {
          "base_uri": "https://localhost:8080/"
        },
        "id": "gLEJgssr_wtj",
        "outputId": "3549e5e8-b086-4bbc-8449-5f241aae7592"
      },
      "execution_count": null,
      "outputs": [
        {
          "output_type": "execute_result",
          "data": {
            "text/plain": [
              "FitnessResult(score=0.4355555555555554)"
            ]
          },
          "metadata": {},
          "execution_count": 72
        }
      ]
    },
    {
      "cell_type": "markdown",
      "source": [
        "### **idea #2**"
      ],
      "metadata": {
        "id": "DpNTqvephecz"
      }
    },
    {
      "cell_type": "code",
      "source": [
        "def signed_slpa_v2(G, T, r):\n",
        "    \"\"\"\n",
        "    Speaker-Listener Label Propagation Algorithm (SLPA)\n",
        "    see http://arxiv.org/abs/1109.5720\n",
        "    \"\"\"\n",
        "\n",
        "    # Stage 1: Initialization\n",
        "    memory = {i: {i: 1} for i in G.nodes()}\n",
        "\n",
        "    # Stage 2: Evolution\n",
        "    for t in range(T):\n",
        "\n",
        "        listeners_order = list(G.nodes())\n",
        "        np.random.shuffle(listeners_order)\n",
        "\n",
        "        for listener in listeners_order:\n",
        "            neg_speakers = []\n",
        "            pos_speakers = []\n",
        "            for e in G[listener].keys():\n",
        "                if G[listener][e]['sign'] == 1:\n",
        "                    pos_speakers.append(e)\n",
        "                else:\n",
        "                    neg_speakers.append(e)\n",
        "\n",
        "\n",
        "            if (len(neg_speakers) == 0) and (len(pos_speakers)==0):\n",
        "              print(neg_speakers)\n",
        "              print(pos_speakers)\n",
        "              continue\n",
        "\n",
        "            neg_labels = defaultdict(int)\n",
        "            pos_labels = defaultdict(int)\n",
        "\n",
        "            for j, speaker in enumerate(neg_speakers):\n",
        "                # Speaker Rule\n",
        "                total = 0\n",
        "                for value in memory[speaker].values():\n",
        "                  if value > 0:\n",
        "                    total+=value\n",
        "\n",
        "                neg_labels[\n",
        "                    list(memory[speaker].keys())[\n",
        "                        np.random.multinomial(\n",
        "                            1, [freq / total for freq in memory[speaker].values() if freq>0]\n",
        "                        ).argmax()\n",
        "                    ]\n",
        "                ] += 1\n",
        "\n",
        "\n",
        "\n",
        "            for j, speaker in enumerate(pos_speakers):\n",
        "                # Speaker Rule\n",
        "                # total = float(sum(memory[speaker].values()))\n",
        "                total = 0\n",
        "                for value in memory[speaker].values():\n",
        "                  if value > 0:\n",
        "                    total+=value\n",
        "\n",
        "                pos_labels[\n",
        "                    list(memory[speaker].keys())[\n",
        "                        np.random.multinomial(\n",
        "                            1, [freq / total for freq in memory[speaker].values() if freq>0]\n",
        "                        ).argmax()\n",
        "                    ]\n",
        "                ] += 1\n",
        "\n",
        "\n",
        "\n",
        "            # Listener Rule\n",
        "            if neg_labels:\n",
        "              rejected_label = max(neg_labels, key=neg_labels.get)\n",
        "\n",
        "            if pos_labels:\n",
        "              accepted_label = max(pos_labels, key=pos_labels.get)\n",
        "\n",
        "\n",
        "            # Update listener memory\n",
        "            if rejected_label in memory[listener]:\n",
        "                memory[listener][rejected_label] -= 1\n",
        "            else:\n",
        "                memory[listener][rejected_label] = -1\n",
        "\n",
        "\n",
        "            if accepted_label in memory[listener]:\n",
        "                memory[listener][accepted_label] += 1\n",
        "            else:\n",
        "                memory[listener][accepted_label] = 1\n",
        "\n",
        "    # Stage 3:\n",
        "    for node, mem in memory.items():\n",
        "        its = copy.copy(list(mem.items()))\n",
        "        for label, freq in its:\n",
        "            if freq / float(T + 1)  <  r:\n",
        "                del mem[label]\n",
        "\n",
        "    # Find nodes membership\n",
        "    communities = {}\n",
        "    for node, mem in memory.items():\n",
        "        for label in mem.keys():\n",
        "            if label in communities:\n",
        "                communities[label].add(node)\n",
        "            else:\n",
        "                communities[label] = {node}\n",
        "\n",
        "    # Remove nested communities\n",
        "    nested_communities = set()\n",
        "    keys = list(communities.keys())\n",
        "    for i, label0 in enumerate(keys[:-1]):\n",
        "        comm0 = communities[label0]\n",
        "        for label1 in keys[i + 1 :]:\n",
        "            comm1 = communities[label1]\n",
        "            if comm0.issubset(comm1):\n",
        "                nested_communities.add(label0)\n",
        "            elif comm0.issuperset(comm1):\n",
        "                nested_communities.add(label1)\n",
        "\n",
        "    for comm in nested_communities:\n",
        "        del communities[comm]\n",
        "\n",
        "    return [list(c) for c in communities.values()]"
      ],
      "metadata": {
        "id": "pZj4ROdpWOja"
      },
      "execution_count": null,
      "outputs": []
    },
    {
      "cell_type": "markdown",
      "source": [
        "**implement idea #2 on datasets**"
      ],
      "metadata": {
        "id": "oOeARRiblNwF"
      }
    },
    {
      "cell_type": "code",
      "source": [
        "#implement idea #2 on highland dataset\n",
        "highland_coms_2 = signed_slpa_v2(highland_graph, 50,r=0.1)\n",
        "print(highland_coms_2)"
      ],
      "metadata": {
        "id": "Z_VL5HlFlqWn",
        "colab": {
          "base_uri": "https://localhost:8080/"
        },
        "outputId": "ba4e326c-9822-45e9-f3ab-d476278a34a8"
      },
      "execution_count": null,
      "outputs": [
        {
          "output_type": "stream",
          "name": "stdout",
          "text": [
            "[[16, 1, 10, 13], [1, 4, 6, 8, 11, 15, 16], [1, 2, 9, 10, 14], [3, 7, 8, 11, 14, 15, 16], [3, 5, 6, 12, 13], [5, 14], [8, 11, 12, 7]]\n"
          ]
        }
      ]
    },
    {
      "cell_type": "code",
      "source": [
        "#implement idea #2 on pajek dataset\n",
        "pajek_coms_2 = signed_slpa_v2(pajek_graph,50,r=0.1)\n",
        "print(pajek_coms_2)"
      ],
      "metadata": {
        "colab": {
          "base_uri": "https://localhost:8080/"
        },
        "id": "iJL-stjAmSW7",
        "outputId": "939401c0-3c22-4063-92e9-c260c5ab5022"
      },
      "execution_count": null,
      "outputs": [
        {
          "output_type": "stream",
          "name": "stdout",
          "text": [
            "[[8, 1, 6, 9], [2, 4, 5, 7, 10]]\n"
          ]
        }
      ]
    },
    {
      "cell_type": "markdown",
      "source": [
        "**Evaluation idea #2 algorithm on datasets**"
      ],
      "metadata": {
        "id": "iHThZcKzGM8V"
      }
    },
    {
      "cell_type": "code",
      "source": [
        "#evaluation idea #1 on highland dataset\n",
        "modularity_overlap_signed_new(highland_graph, highland_coms_2)"
      ],
      "metadata": {
        "colab": {
          "base_uri": "https://localhost:8080/"
        },
        "id": "h1rj6QOuGUmL",
        "outputId": "05e92b15-b7df-4cad-9a36-fd3d530bd862"
      },
      "execution_count": null,
      "outputs": [
        {
          "output_type": "execute_result",
          "data": {
            "text/plain": [
              "FitnessResult(score=0.030457292905271507)"
            ]
          },
          "metadata": {},
          "execution_count": 138
        }
      ]
    },
    {
      "cell_type": "code",
      "source": [
        "#evaluation idea #2 on pajek dataset\n",
        "modularity_overlap_signed_new(pajek_graph, pajek_coms_2)"
      ],
      "metadata": {
        "colab": {
          "base_uri": "https://localhost:8080/"
        },
        "id": "l40lJtOeJN3f",
        "outputId": "7c415d33-94d3-4f04-cacf-212fb8cb64a7"
      },
      "execution_count": null,
      "outputs": [
        {
          "output_type": "execute_result",
          "data": {
            "text/plain": [
              "FitnessResult(score=0.3377777777777778)"
            ]
          },
          "metadata": {},
          "execution_count": 139
        }
      ]
    },
    {
      "cell_type": "markdown",
      "source": [
        "### **Ideas with considering edges weights**"
      ],
      "metadata": {
        "id": "8yGDQa8Gmzly"
      }
    },
    {
      "cell_type": "markdown",
      "source": [
        "### **idea #3**"
      ],
      "metadata": {
        "id": "AhpxKYGEm668"
      }
    },
    {
      "cell_type": "code",
      "execution_count": null,
      "metadata": {
        "id": "oxO2UpfYbpUa"
      },
      "outputs": [],
      "source": [
        "def signed_slpa_v3(G, T, r):\n",
        "    \"\"\"\n",
        "    Speaker-Listener Label Propagation Algorithm (SLPA)\n",
        "    see http://arxiv.org/abs/1109.5720\n",
        "    \"\"\"\n",
        "\n",
        "    # Stage 1: Initialization\n",
        "    memory = {i: {i: 1} for i in G.nodes()}\n",
        "\n",
        "    # Stage 2: Evolution\n",
        "    for t in range(T):\n",
        "\n",
        "        listeners_order = list(G.nodes())\n",
        "        np.random.shuffle(listeners_order)\n",
        "\n",
        "        for listener in listeners_order:\n",
        "            speakers = G[listener].keys()\n",
        "            if len(speakers) == 0:\n",
        "                continue\n",
        "\n",
        "            labels = defaultdict(int)\n",
        "\n",
        "            for j, speaker in enumerate(speakers):\n",
        "                # Speaker Rule\n",
        "                total = float(sum(memory[speaker].values()))\n",
        "                labels[\n",
        "                    list(memory[speaker].keys())[\n",
        "                        np.random.multinomial(\n",
        "                            1, [freq / total for freq in memory[speaker].values()]\n",
        "                        ).argmax()\n",
        "                    ]\n",
        "                ] += G[listener][speaker]['weight']\n",
        "\n",
        "\n",
        "            # Listener Rule\n",
        "            accepted_label = max(labels, key=labels.get)\n",
        "\n",
        "            # Update listener memory\n",
        "            if accepted_label in memory[listener]:\n",
        "                memory[listener][accepted_label] += 1\n",
        "            else:\n",
        "                memory[listener][accepted_label] = 1\n",
        "\n",
        "    # Stage 3:\n",
        "    for node, mem in memory.items():\n",
        "        its = copy.copy(list(mem.items()))\n",
        "        for label, freq in its:\n",
        "            if freq / float(T + 1)  <  r:\n",
        "                del mem[label]\n",
        "\n",
        "    # Find nodes membership\n",
        "    communities = {}\n",
        "    for node, mem in memory.items():\n",
        "        for label in mem.keys():\n",
        "            if label in communities:\n",
        "                communities[label].add(node)\n",
        "            else:\n",
        "                communities[label] = {node}\n",
        "\n",
        "    # Remove nested communities\n",
        "    nested_communities = set()\n",
        "    keys = list(communities.keys())\n",
        "    for i, label0 in enumerate(keys[:-1]):\n",
        "        comm0 = communities[label0]\n",
        "        for label1 in keys[i + 1 :]:\n",
        "            comm1 = communities[label1]\n",
        "            if comm0.issubset(comm1):\n",
        "                nested_communities.add(label0)\n",
        "            elif comm0.issuperset(comm1):\n",
        "                nested_communities.add(label1)\n",
        "\n",
        "    for comm in nested_communities:\n",
        "        del communities[comm]\n",
        "\n",
        "    return [list(c) for c in communities.values()]\n"
      ]
    },
    {
      "cell_type": "markdown",
      "source": [
        "**implement idea #3 on datasets**"
      ],
      "metadata": {
        "id": "k8QGzFBPnvf0"
      }
    },
    {
      "cell_type": "code",
      "source": [
        "#implement idea #3 on highland dataset\n",
        "highland_coms_3 = signed_slpa_v3(highland_graph, 21, r=0.1)\n",
        "print(highland_coms_3)"
      ],
      "metadata": {
        "id": "TCgMlfq8n4DA",
        "colab": {
          "base_uri": "https://localhost:8080/"
        },
        "outputId": "ea57fa00-ab14-47ed-dcda-235bdb3703e9"
      },
      "execution_count": null,
      "outputs": [
        {
          "output_type": "stream",
          "name": "stdout",
          "text": [
            "[[16, 1, 2, 15], [3, 4, 6, 7, 8, 11, 12], [5, 9, 10, 13, 14]]\n"
          ]
        }
      ]
    },
    {
      "cell_type": "code",
      "source": [
        "#implement idea #3 on pajek dataset\n",
        "pajek_coms_3 = signed_slpa_v3(pajek_graph, 21, r=0.1)\n",
        "print(pajek_coms_3)"
      ],
      "metadata": {
        "colab": {
          "base_uri": "https://localhost:8080/"
        },
        "id": "SaJSr8pWpDgH",
        "outputId": "a5284bd2-9ba1-4c77-a240-9a67d412b55d"
      },
      "execution_count": null,
      "outputs": [
        {
          "output_type": "stream",
          "name": "stdout",
          "text": [
            "[[1, 3, 6, 8, 9], [2, 4, 5, 7, 10]]\n"
          ]
        }
      ]
    },
    {
      "cell_type": "markdown",
      "source": [
        "**Evaluation idea #3 algorithm on datasets**"
      ],
      "metadata": {
        "id": "nEI6je8oJ4vz"
      }
    },
    {
      "cell_type": "code",
      "source": [
        "#evaluation idea #3 on highland dataset\n",
        "modularity_overlap_signed_new(highland_graph, highland_coms_3)"
      ],
      "metadata": {
        "colab": {
          "base_uri": "https://localhost:8080/"
        },
        "id": "XFf-sLMNJ-jJ",
        "outputId": "e04b2419-0f93-4b11-f3ea-f684d26efdd4"
      },
      "execution_count": null,
      "outputs": [
        {
          "output_type": "execute_result",
          "data": {
            "text/plain": [
              "FitnessResult(score=0.4467895362663496)"
            ]
          },
          "metadata": {},
          "execution_count": 143
        }
      ]
    },
    {
      "cell_type": "code",
      "source": [
        "#evaluation idea #3 on pajek dataset\n",
        "modularity_overlap_signed_new(pajek_graph, pajek_coms_3)"
      ],
      "metadata": {
        "colab": {
          "base_uri": "https://localhost:8080/"
        },
        "id": "NQGN75FEKB7k",
        "outputId": "65fc1d31-d1c9-4b51-eff9-868185066937"
      },
      "execution_count": null,
      "outputs": [
        {
          "output_type": "execute_result",
          "data": {
            "text/plain": [
              "FitnessResult(score=0.4355555555555554)"
            ]
          },
          "metadata": {},
          "execution_count": 144
        }
      ]
    },
    {
      "cell_type": "markdown",
      "metadata": {
        "id": "1hYHo2YfhjSb"
      },
      "source": [
        "### **idea #4**"
      ]
    },
    {
      "cell_type": "code",
      "execution_count": null,
      "metadata": {
        "id": "U7dz4P8sw9Fj"
      },
      "outputs": [],
      "source": [
        "def signed_slpa_v4(G, T, r):\n",
        "    \"\"\"\n",
        "    Speaker-Listener Label Propagation Algorithm (SLPA)\n",
        "    see http://arxiv.org/abs/1109.5720\n",
        "    \"\"\"\n",
        "\n",
        "    # Stage 1: Initialization\n",
        "    memory = {i: {i: 1} for i in G.nodes()}\n",
        "\n",
        "    # Stage 2: Evolution\n",
        "    for t in range(T):\n",
        "\n",
        "        listeners_order = list(G.nodes())\n",
        "        np.random.shuffle(listeners_order)\n",
        "\n",
        "        for listener in listeners_order:\n",
        "            speakers = G[listener].keys()\n",
        "            if len(speakers) == 0:\n",
        "                continue\n",
        "\n",
        "            labels = defaultdict(int)\n",
        "\n",
        "            for j, speaker in enumerate(speakers):\n",
        "                # Speaker Rule\n",
        "                total = float(sum(memory[speaker].values()))\n",
        "                labels[\n",
        "                    list(memory[speaker].keys())[\n",
        "                        np.random.multinomial(\n",
        "                            1, [freq / total for freq in memory[speaker].values()]\n",
        "                        ).argmax()\n",
        "                    ]\n",
        "                ] += G[listener][speaker]['weight']\n",
        "\n",
        "\n",
        "            # Listener Rule\n",
        "            accepted_label = max(labels, key=labels.get)\n",
        "            labels_freq = list(labels.values())\n",
        "            accepted_label_freq = labels[accepted_label]\n",
        "\n",
        "            # Update listener memory\n",
        "            if accepted_label in memory[listener]:\n",
        "                memory[listener][accepted_label] +=accepted_label_freq\n",
        "            else:\n",
        "                memory[listener][accepted_label] = accepted_label_freq\n",
        "\n",
        "    # Stage 3:\n",
        "    # Calculate average frequency across all labels\n",
        "    # total_freq = sum(sum(mem.values()) for mem in memory.values())\n",
        "    # avg_freq = total_freq / len(memory)\n",
        "    for node, mem in memory.items():\n",
        "        its = copy.copy(list(mem.items()))\n",
        "        for label, freq in its:\n",
        "            if freq / float(T + 1) < r:\n",
        "                del mem[label]\n",
        "\n",
        "    # Find nodes membership\n",
        "    communities = {}\n",
        "    for node, mem in memory.items():\n",
        "        for label in mem.keys():\n",
        "            if label in communities:\n",
        "                communities[label].add(node)\n",
        "            else:\n",
        "                communities[label] = {node}\n",
        "\n",
        "    # Remove nested communities\n",
        "    nested_communities = set()\n",
        "    keys = list(communities.keys())\n",
        "    for i, label0 in enumerate(keys[:-1]):\n",
        "        comm0 = communities[label0]\n",
        "        for label1 in keys[i + 1 :]:\n",
        "            comm1 = communities[label1]\n",
        "            if comm0.issubset(comm1):\n",
        "                nested_communities.add(label0)\n",
        "            elif comm0.issuperset(comm1):\n",
        "                nested_communities.add(label1)\n",
        "\n",
        "    for comm in nested_communities:\n",
        "        del communities[comm]\n",
        "\n",
        "    return [list(c) for c in communities.values()]\n"
      ]
    },
    {
      "cell_type": "markdown",
      "source": [
        "**implement idea #4 on datasets**"
      ],
      "metadata": {
        "id": "BXjyhpb1pvU_"
      }
    },
    {
      "cell_type": "code",
      "source": [
        "#implement idea #4 on highland dataset\n",
        "highland_coms_4 = signed_slpa_v4(highland_graph, 21, r=0.1)\n",
        "print(highland_coms_4)"
      ],
      "metadata": {
        "colab": {
          "base_uri": "https://localhost:8080/"
        },
        "id": "RmiXJnuipyBX",
        "outputId": "c2992e00-4f49-4fb4-bfcf-45602810c801"
      },
      "execution_count": null,
      "outputs": [
        {
          "output_type": "stream",
          "name": "stdout",
          "text": [
            "[[16, 1, 2, 15], [3, 4, 6, 7, 8, 11, 12], [5, 9, 10, 13, 14]]\n"
          ]
        }
      ]
    },
    {
      "cell_type": "code",
      "source": [
        "#implement idea #4 on pajek dataset\n",
        "pajek_coms_4 = signed_slpa_v4(pajek_graph, 21, r=0.1)\n",
        "print(pajek_coms_4)"
      ],
      "metadata": {
        "colab": {
          "base_uri": "https://localhost:8080/"
        },
        "id": "Kd6wm-AUp3KO",
        "outputId": "3456d1f3-fdb9-435b-af04-60eaa8f5cfed"
      },
      "execution_count": null,
      "outputs": [
        {
          "output_type": "stream",
          "name": "stdout",
          "text": [
            "[[1, 3, 6, 8, 9], [2, 4, 5, 7, 10]]\n"
          ]
        }
      ]
    },
    {
      "cell_type": "markdown",
      "source": [
        "**Evaluation idea #4 algorithm on datasets**"
      ],
      "metadata": {
        "id": "2s-1ueYnP0Qb"
      }
    },
    {
      "cell_type": "code",
      "source": [
        "#evaluation idea #4 on highland dataset\n",
        "modularity_overlap_signed_new(highland_graph, highland_coms_4)"
      ],
      "metadata": {
        "colab": {
          "base_uri": "https://localhost:8080/"
        },
        "id": "l0vZn_acP51s",
        "outputId": "207e0845-51bb-440d-aa53-2e10f9e3abc8"
      },
      "execution_count": null,
      "outputs": [
        {
          "output_type": "execute_result",
          "data": {
            "text/plain": [
              "FitnessResult(score=0.4467895362663496)"
            ]
          },
          "metadata": {},
          "execution_count": 153
        }
      ]
    },
    {
      "cell_type": "code",
      "source": [
        "#evaluation idea #4 on pajek dataset\n",
        "modularity_overlap_signed_new(pajek_graph, pajek_coms_4)"
      ],
      "metadata": {
        "colab": {
          "base_uri": "https://localhost:8080/"
        },
        "id": "_MPO2_NPP-by",
        "outputId": "ef97dcd7-13f2-4964-f785-5e270b7c089b"
      },
      "execution_count": null,
      "outputs": [
        {
          "output_type": "execute_result",
          "data": {
            "text/plain": [
              "FitnessResult(score=0.4355555555555554)"
            ]
          },
          "metadata": {},
          "execution_count": 149
        }
      ]
    },
    {
      "cell_type": "markdown",
      "metadata": {
        "id": "b66cjUbcn12_"
      },
      "source": [
        "### **idea #5**"
      ]
    },
    {
      "cell_type": "code",
      "execution_count": null,
      "metadata": {
        "id": "-h9952JWTBKK"
      },
      "outputs": [],
      "source": [
        "def signed_slpa_v5(G, T, r):\n",
        "    \"\"\"\n",
        "    Modified SLPA for detecting overlapping communities in signed social networks using edge weights\n",
        "    \"\"\"\n",
        "\n",
        "    # Stage 1: Initialization\n",
        "    memory = {i: {i: 1} for i in G.nodes()}\n",
        "\n",
        "    # Stage 2: Evolution\n",
        "    for t in range(T):\n",
        "        listeners_order = list(G.nodes())\n",
        "        listeners_order.sort()  # Deterministic order\n",
        "\n",
        "        for listener in listeners_order:\n",
        "            speakers = G[listener].keys()\n",
        "            if len(speakers) == 0:\n",
        "                continue\n",
        "\n",
        "            labels = defaultdict(int)\n",
        "\n",
        "            for j, speaker in enumerate(speakers):\n",
        "                # Speaker Rule\n",
        "                total_weight = sum(G[speaker][listener]['weight'] for listener in G[speaker] if listener != speaker)\n",
        "                labels[list(memory[speaker].keys())[\n",
        "                    np.argmax([memory[speaker][label] * G[speaker][listener]['weight'] / total_weight\n",
        "                               for label in memory[speaker]])]] += 1\n",
        "\n",
        "            # Listener Rule\n",
        "            accepted_label = max(labels, key=labels.get)\n",
        "\n",
        "            # Update listener memory\n",
        "            if accepted_label in memory[listener]:\n",
        "                memory[listener][accepted_label] += 1\n",
        "            else:\n",
        "                memory[listener][accepted_label] = 1\n",
        "\n",
        "    # Stage 3:\n",
        "    for node, mem in memory.items():\n",
        "        its = copy.copy(list(mem.items()))\n",
        "        for label, freq in its:\n",
        "            if freq / float(T + 1) < r:\n",
        "                del mem[label]\n",
        "\n",
        "    # Find nodes membership\n",
        "    communities = {}\n",
        "    for node, mem in memory.items():\n",
        "        for label in mem.keys():\n",
        "            if label in communities:\n",
        "                communities[label].add(node)\n",
        "            else:\n",
        "                communities[label] = {node}\n",
        "\n",
        "    # Remove nested communities\n",
        "    nested_communities = set()\n",
        "    keys = list(communities.keys())\n",
        "    for i, label0 in enumerate(keys[:-1]):\n",
        "        comm0 = communities[label0]\n",
        "        for label1 in keys[i + 1:]:\n",
        "            comm1 = communities[label1]\n",
        "            if comm0.issubset(comm1):\n",
        "                nested_communities.add(label0)\n",
        "            elif comm0.issuperset(comm1):\n",
        "                nested_communities.add(label1)\n",
        "\n",
        "    for comm in nested_communities:\n",
        "        del communities[comm]\n",
        "\n",
        "    return [list(c) for c in communities.values()]\n",
        "\n",
        "# Example usage:\n",
        "# G is a NetworkX graph with signed edges and weights\n",
        "# T is the number of iterations\n",
        "# # r is the threshold for removing labels\n",
        "# resulting_communities = slpa_signed(G, T=10, r=0.3)\n",
        "# print(resulting_communities)\n"
      ]
    },
    {
      "cell_type": "markdown",
      "source": [
        "**implement idea #5 on datasets**"
      ],
      "metadata": {
        "id": "PLqJuW96qORR"
      }
    },
    {
      "cell_type": "code",
      "source": [
        "#implement idea #5 on highland dataset\n",
        "highland_coms_5 = signed_slpa_v5(highland_graph, 21, r=0.1)\n",
        "print(highland_coms_5)"
      ],
      "metadata": {
        "id": "hW8ZmRvDqNAA",
        "colab": {
          "base_uri": "https://localhost:8080/"
        },
        "outputId": "c4a1047d-2d23-408e-e45b-6c48ea17aafb"
      },
      "execution_count": null,
      "outputs": [
        {
          "output_type": "stream",
          "name": "stdout",
          "text": [
            "[[1, 2, 5, 9, 10, 13, 14, 15, 16], [3, 4, 6, 7, 8, 11, 12]]\n"
          ]
        }
      ]
    },
    {
      "cell_type": "code",
      "source": [
        "#implement idea #5 on pajek dataset\n",
        "pajek_coms_5 = signed_slpa_v5(pajek_graph, 21, r=0.1)\n",
        "print(pajek_coms_5)"
      ],
      "metadata": {
        "colab": {
          "base_uri": "https://localhost:8080/"
        },
        "id": "tbgBpjXMqgfj",
        "outputId": "879b00b8-cf36-47d6-89da-b7c8a431dc85"
      },
      "execution_count": null,
      "outputs": [
        {
          "output_type": "stream",
          "name": "stdout",
          "text": [
            "[[1, 2, 3, 4, 5, 6, 7, 8, 9, 10]]\n"
          ]
        }
      ]
    },
    {
      "cell_type": "markdown",
      "source": [
        "**Evaluation idea #5 algorithm on datasets**"
      ],
      "metadata": {
        "id": "wFWPaP75SBqY"
      }
    },
    {
      "cell_type": "code",
      "source": [
        "#evaluation idea #5 on highland dataset\n",
        "modularity_overlap_signed_new(highland_graph, highland_coms_5)"
      ],
      "metadata": {
        "colab": {
          "base_uri": "https://localhost:8080/"
        },
        "id": "rcUJSatJSH10",
        "outputId": "88a3e2c3-1267-46c9-f5f3-76b1bd679bf9"
      },
      "execution_count": null,
      "outputs": [
        {
          "output_type": "execute_result",
          "data": {
            "text/plain": [
              "FitnessResult(score=0.2910225921521998)"
            ]
          },
          "metadata": {},
          "execution_count": 159
        }
      ]
    },
    {
      "cell_type": "code",
      "source": [
        "#evaluation idea #5 on pajek dataset\n",
        "modularity_overlap_signed_new(pajek_graph, pajek_coms_5)"
      ],
      "metadata": {
        "colab": {
          "base_uri": "https://localhost:8080/"
        },
        "id": "IXJhnJ9MSQWY",
        "outputId": "60f2f17c-e98b-47f0-b924-9239063cb7f9"
      },
      "execution_count": null,
      "outputs": [
        {
          "output_type": "execute_result",
          "data": {
            "text/plain": [
              "FitnessResult(score=-0.01999999999999998)"
            ]
          },
          "metadata": {},
          "execution_count": 162
        }
      ]
    },
    {
      "cell_type": "markdown",
      "metadata": {
        "id": "1SZKbdDRn8em"
      },
      "source": [
        "### **idea #6**"
      ]
    },
    {
      "cell_type": "code",
      "execution_count": null,
      "metadata": {
        "id": "-502Z4iYpg2V"
      },
      "outputs": [],
      "source": [
        "def signed_slpa_v6(G, T, r):\n",
        "    \"\"\"\n",
        "    Speaker-Listener Label Propagation Algorithm (SLPA)\n",
        "    see http://arxiv.org/abs/1109.5720\n",
        "    \"\"\"\n",
        "\n",
        "    # Stage 1: Initialization\n",
        "    memory={}\n",
        "    for i in G.nodes():\n",
        "      memory[i] = {i:1}\n",
        "      for j in list(G[i].keys()):\n",
        "        memory[i][j] = G[i][j]['weight']\n",
        "\n",
        "    # print(memory)\n",
        "\n",
        "    # Stage 2: Evolution\n",
        "    for t in range(T):\n",
        "\n",
        "        listeners_order = list(G.nodes())\n",
        "        np.random.shuffle(listeners_order)\n",
        "\n",
        "        for listener in listeners_order:\n",
        "            speakers = G[listener].keys()\n",
        "            if len(speakers) == 0:\n",
        "                continue\n",
        "\n",
        "            labels = defaultdict(int)\n",
        "\n",
        "            for j, speaker in enumerate(speakers):\n",
        "                # Speaker Rule\n",
        "                offered_label = max(memory[speaker],key=memory[speaker].get)\n",
        "                labels[offered_label]+=G[listener][speaker]['weight']\n",
        "\n",
        "            # Listener Rule\n",
        "            accepted_label = max(labels, key=labels.get)\n",
        "\n",
        "            # Update listener memory\n",
        "            if accepted_label in memory[listener]:\n",
        "                memory[listener][accepted_label] += 1\n",
        "            else:\n",
        "                memory[listener][accepted_label] = 1\n",
        "\n",
        "    # Stage 3:\n",
        "    for node, mem in memory.items():\n",
        "        its = copy.copy(list(mem.items()))\n",
        "        for label, freq in its:\n",
        "            if freq / float(T + 1)  <  r:\n",
        "                del mem[label]\n",
        "\n",
        "    # Find nodes membership\n",
        "    communities = {}\n",
        "    for node, mem in memory.items():\n",
        "        for label in mem.keys():\n",
        "            if label in communities:\n",
        "                communities[label].add(node)\n",
        "            else:\n",
        "                communities[label] = {node}\n",
        "\n",
        "    # Remove nested communities\n",
        "    nested_communities = set()\n",
        "    keys = list(communities.keys())\n",
        "    for i, label0 in enumerate(keys[:-1]):\n",
        "        comm0 = communities[label0]\n",
        "        for label1 in keys[i + 1 :]:\n",
        "            comm1 = communities[label1]\n",
        "            if comm0.issubset(comm1):\n",
        "                nested_communities.add(label0)\n",
        "            elif comm0.issuperset(comm1):\n",
        "                nested_communities.add(label1)\n",
        "\n",
        "    for comm in nested_communities:\n",
        "        del communities[comm]\n",
        "\n",
        "    return [list(c) for c in communities.values()]\n"
      ]
    },
    {
      "cell_type": "markdown",
      "source": [
        "**implement idea #6 on datasets**"
      ],
      "metadata": {
        "id": "tDSibtoRqvna"
      }
    },
    {
      "cell_type": "code",
      "source": [
        "#implement idea #6 on highland dataset\n",
        "highland_coms_6 = signed_slpa_v6(highland_graph, 21, r=0.1)\n",
        "print(highland_coms_6)"
      ],
      "metadata": {
        "id": "Uaep_2cZdMTA",
        "colab": {
          "base_uri": "https://localhost:8080/"
        },
        "outputId": "fb3f9de0-1076-4b4b-8d90-c294155176bd"
      },
      "execution_count": null,
      "outputs": [
        {
          "output_type": "stream",
          "name": "stdout",
          "text": [
            "[[16, 1, 2, 15], [3, 4, 6, 7, 8, 11, 12], [5, 9, 10, 13, 14]]\n"
          ]
        }
      ]
    },
    {
      "cell_type": "code",
      "source": [
        "#implement idea #6 on pajek dataset\n",
        "pajek_coms_6 = signed_slpa_v6(pajek_graph, 21, r=0.1)\n",
        "print(pajek_coms_6)"
      ],
      "metadata": {
        "colab": {
          "base_uri": "https://localhost:8080/"
        },
        "id": "NcuQzsYQq84a",
        "outputId": "ff0c7a26-34be-46d6-d3b0-2b732d290e18"
      },
      "execution_count": null,
      "outputs": [
        {
          "output_type": "stream",
          "name": "stdout",
          "text": [
            "[[1, 3, 6, 8, 9], [2, 4, 5, 7, 10]]\n"
          ]
        }
      ]
    },
    {
      "cell_type": "markdown",
      "source": [
        "**Evaluation idea #6 algorithm on datasets**"
      ],
      "metadata": {
        "id": "gGyJJmOxSr7I"
      }
    },
    {
      "cell_type": "code",
      "source": [
        "#evaluation idea #6 on highland dataset\n",
        "modularity_overlap_signed_new(highland_graph, highland_coms_6)"
      ],
      "metadata": {
        "colab": {
          "base_uri": "https://localhost:8080/"
        },
        "id": "3ouLDDJTSwrO",
        "outputId": "a106e3c1-ac32-40ae-d29c-6f660094804d"
      },
      "execution_count": null,
      "outputs": [
        {
          "output_type": "execute_result",
          "data": {
            "text/plain": [
              "FitnessResult(score=0.4467895362663496)"
            ]
          },
          "metadata": {},
          "execution_count": 166
        }
      ]
    },
    {
      "cell_type": "code",
      "source": [
        "#evaluation idea #6 on pajek dataset\n",
        "modularity_overlap_signed_new(pajek_graph, pajek_coms_6)"
      ],
      "metadata": {
        "colab": {
          "base_uri": "https://localhost:8080/"
        },
        "id": "cjjvmvDlS0oL",
        "outputId": "4739e741-1e08-41cd-a4f1-c6d2c8c1c07e"
      },
      "execution_count": null,
      "outputs": [
        {
          "output_type": "execute_result",
          "data": {
            "text/plain": [
              "FitnessResult(score=0.4355555555555554)"
            ]
          },
          "metadata": {},
          "execution_count": 167
        }
      ]
    },
    {
      "cell_type": "markdown",
      "source": [
        "### **Evaluation communities detected from Highland Tribes dataset on article**"
      ],
      "metadata": {
        "id": "fb-5bj9yTs-D"
      }
    },
    {
      "cell_type": "code",
      "source": [
        "coms_7 = [[1,2,5,12,14,16],[3,4,6,7,8],[9,10,11,13,15]]\n",
        "print(coms_7)\n",
        "modularity_overlap_signed_new(highland_graph, coms_7)"
      ],
      "metadata": {
        "colab": {
          "base_uri": "https://localhost:8080/"
        },
        "id": "V1MvwTG2TeuX",
        "outputId": "968ce889-b853-4707-d2f7-7e9073d05023"
      },
      "execution_count": null,
      "outputs": [
        {
          "output_type": "stream",
          "name": "stdout",
          "text": [
            "[[1, 2, 5, 12, 14, 16], [3, 4, 6, 7, 8], [9, 10, 11, 13, 15]]\n"
          ]
        },
        {
          "output_type": "execute_result",
          "data": {
            "text/plain": [
              "FitnessResult(score=0.026010701545778815)"
            ]
          },
          "metadata": {},
          "execution_count": 173
        }
      ]
    },
    {
      "cell_type": "markdown",
      "source": [
        "## **Evaluation**"
      ],
      "metadata": {
        "id": "LbOGasYRhHdX"
      }
    },
    {
      "cell_type": "code",
      "source": [
        "pip install cdlib"
      ],
      "metadata": {
        "colab": {
          "base_uri": "https://localhost:8080/"
        },
        "id": "y_2PXBmMUws-",
        "outputId": "d4ac6dfd-e905-4583-8371-218c3963ade8"
      },
      "execution_count": null,
      "outputs": [
        {
          "output_type": "stream",
          "name": "stdout",
          "text": [
            "Collecting cdlib\n",
            "  Downloading cdlib-0.3.0-py3-none-any.whl (230 kB)\n",
            "\u001b[2K     \u001b[90m━━━━━━━━━━━━━━━━━━━━━━━━━━━━━━━━━━━━━━━━\u001b[0m \u001b[32m230.3/230.3 kB\u001b[0m \u001b[31m2.1 MB/s\u001b[0m eta \u001b[36m0:00:00\u001b[0m\n",
            "\u001b[?25hRequirement already satisfied: numpy in /usr/local/lib/python3.10/dist-packages (from cdlib) (1.25.2)\n",
            "Requirement already satisfied: matplotlib in /usr/local/lib/python3.10/dist-packages (from cdlib) (3.7.1)\n",
            "Requirement already satisfied: scikit-learn in /usr/local/lib/python3.10/dist-packages (from cdlib) (1.2.2)\n",
            "Requirement already satisfied: tqdm in /usr/local/lib/python3.10/dist-packages (from cdlib) (4.66.2)\n",
            "Requirement already satisfied: networkx>=3.0 in /usr/local/lib/python3.10/dist-packages (from cdlib) (3.2.1)\n",
            "Collecting demon (from cdlib)\n",
            "  Downloading demon-2.0.6-py3-none-any.whl (7.3 kB)\n",
            "Requirement already satisfied: python-louvain>=0.16 in /usr/local/lib/python3.10/dist-packages (from cdlib) (0.16)\n",
            "Collecting nf1 (from cdlib)\n",
            "  Downloading nf1-0.0.4-py3-none-any.whl (18 kB)\n",
            "Requirement already satisfied: scipy in /usr/local/lib/python3.10/dist-packages (from cdlib) (1.11.4)\n",
            "Collecting pulp (from cdlib)\n",
            "  Downloading PuLP-2.8.0-py3-none-any.whl (17.7 MB)\n",
            "\u001b[2K     \u001b[90m━━━━━━━━━━━━━━━━━━━━━━━━━━━━━━━━━━━━━━━━\u001b[0m \u001b[32m17.7/17.7 MB\u001b[0m \u001b[31m34.3 MB/s\u001b[0m eta \u001b[36m0:00:00\u001b[0m\n",
            "\u001b[?25hRequirement already satisfied: seaborn in /usr/local/lib/python3.10/dist-packages (from cdlib) (0.13.1)\n",
            "Requirement already satisfied: pandas in /usr/local/lib/python3.10/dist-packages (from cdlib) (1.5.3)\n",
            "Collecting eva-lcd (from cdlib)\n",
            "  Downloading eva_lcd-0.1.1-py3-none-any.whl (9.2 kB)\n",
            "Collecting bimlpa (from cdlib)\n",
            "  Downloading bimlpa-0.1.2-py3-none-any.whl (7.0 kB)\n",
            "Collecting markov-clustering (from cdlib)\n",
            "  Downloading markov_clustering-0.0.6.dev0-py3-none-any.whl (6.3 kB)\n",
            "Collecting python-igraph>=0.10 (from cdlib)\n",
            "  Downloading python_igraph-0.11.4-py3-none-any.whl (9.1 kB)\n",
            "Collecting angelcommunity (from cdlib)\n",
            "  Downloading angelcommunity-2.0.0-py3-none-any.whl (10 kB)\n",
            "Requirement already satisfied: pooch in /usr/local/lib/python3.10/dist-packages (from cdlib) (1.8.1)\n",
            "Collecting dynetx (from cdlib)\n",
            "  Downloading dynetx-0.3.2-py3-none-any.whl (39 kB)\n",
            "Collecting thresholdclustering (from cdlib)\n",
            "  Downloading thresholdclustering-1.1-py3-none-any.whl (5.3 kB)\n",
            "Collecting python-Levenshtein (from cdlib)\n",
            "  Downloading python_Levenshtein-0.25.0-py3-none-any.whl (9.4 kB)\n",
            "Collecting igraph==0.11.4 (from python-igraph>=0.10->cdlib)\n",
            "  Downloading igraph-0.11.4-cp39-abi3-manylinux_2_17_x86_64.manylinux2014_x86_64.whl (3.3 MB)\n",
            "\u001b[2K     \u001b[90m━━━━━━━━━━━━━━━━━━━━━━━━━━━━━━━━━━━━━━━━\u001b[0m \u001b[32m3.3/3.3 MB\u001b[0m \u001b[31m53.3 MB/s\u001b[0m eta \u001b[36m0:00:00\u001b[0m\n",
            "\u001b[?25hCollecting texttable>=1.6.2 (from igraph==0.11.4->python-igraph>=0.10->cdlib)\n",
            "  Downloading texttable-1.7.0-py2.py3-none-any.whl (10 kB)\n",
            "Requirement already satisfied: future in /usr/local/lib/python3.10/dist-packages (from angelcommunity->cdlib) (0.18.3)\n",
            "Requirement already satisfied: decorator in /usr/local/lib/python3.10/dist-packages (from dynetx->cdlib) (4.4.2)\n",
            "Requirement already satisfied: contourpy>=1.0.1 in /usr/local/lib/python3.10/dist-packages (from matplotlib->cdlib) (1.2.0)\n",
            "Requirement already satisfied: cycler>=0.10 in /usr/local/lib/python3.10/dist-packages (from matplotlib->cdlib) (0.12.1)\n",
            "Requirement already satisfied: fonttools>=4.22.0 in /usr/local/lib/python3.10/dist-packages (from matplotlib->cdlib) (4.49.0)\n",
            "Requirement already satisfied: kiwisolver>=1.0.1 in /usr/local/lib/python3.10/dist-packages (from matplotlib->cdlib) (1.4.5)\n",
            "Requirement already satisfied: packaging>=20.0 in /usr/local/lib/python3.10/dist-packages (from matplotlib->cdlib) (23.2)\n",
            "Requirement already satisfied: pillow>=6.2.0 in /usr/local/lib/python3.10/dist-packages (from matplotlib->cdlib) (9.4.0)\n",
            "Requirement already satisfied: pyparsing>=2.3.1 in /usr/local/lib/python3.10/dist-packages (from matplotlib->cdlib) (3.1.1)\n",
            "Requirement already satisfied: python-dateutil>=2.7 in /usr/local/lib/python3.10/dist-packages (from matplotlib->cdlib) (2.8.2)\n",
            "Requirement already satisfied: pytz>=2020.1 in /usr/local/lib/python3.10/dist-packages (from pandas->cdlib) (2023.4)\n",
            "Requirement already satisfied: platformdirs>=2.5.0 in /usr/local/lib/python3.10/dist-packages (from pooch->cdlib) (4.2.0)\n",
            "Requirement already satisfied: requests>=2.19.0 in /usr/local/lib/python3.10/dist-packages (from pooch->cdlib) (2.31.0)\n",
            "Collecting Levenshtein==0.25.0 (from python-Levenshtein->cdlib)\n",
            "  Downloading Levenshtein-0.25.0-cp310-cp310-manylinux_2_17_x86_64.manylinux2014_x86_64.whl (177 kB)\n",
            "\u001b[2K     \u001b[90m━━━━━━━━━━━━━━━━━━━━━━━━━━━━━━━━━━━━━━━━\u001b[0m \u001b[32m177.4/177.4 kB\u001b[0m \u001b[31m18.8 MB/s\u001b[0m eta \u001b[36m0:00:00\u001b[0m\n",
            "\u001b[?25hCollecting rapidfuzz<4.0.0,>=3.1.0 (from Levenshtein==0.25.0->python-Levenshtein->cdlib)\n",
            "  Downloading rapidfuzz-3.6.2-cp310-cp310-manylinux_2_17_x86_64.manylinux2014_x86_64.whl (3.4 MB)\n",
            "\u001b[2K     \u001b[90m━━━━━━━━━━━━━━━━━━━━━━━━━━━━━━━━━━━━━━━━\u001b[0m \u001b[32m3.4/3.4 MB\u001b[0m \u001b[31m58.3 MB/s\u001b[0m eta \u001b[36m0:00:00\u001b[0m\n",
            "\u001b[?25hRequirement already satisfied: joblib>=1.1.1 in /usr/local/lib/python3.10/dist-packages (from scikit-learn->cdlib) (1.3.2)\n",
            "Requirement already satisfied: threadpoolctl>=2.0.0 in /usr/local/lib/python3.10/dist-packages (from scikit-learn->cdlib) (3.3.0)\n",
            "Requirement already satisfied: six>=1.5 in /usr/local/lib/python3.10/dist-packages (from python-dateutil>=2.7->matplotlib->cdlib) (1.16.0)\n",
            "Requirement already satisfied: charset-normalizer<4,>=2 in /usr/local/lib/python3.10/dist-packages (from requests>=2.19.0->pooch->cdlib) (3.3.2)\n",
            "Requirement already satisfied: idna<4,>=2.5 in /usr/local/lib/python3.10/dist-packages (from requests>=2.19.0->pooch->cdlib) (3.6)\n",
            "Requirement already satisfied: urllib3<3,>=1.21.1 in /usr/local/lib/python3.10/dist-packages (from requests>=2.19.0->pooch->cdlib) (2.0.7)\n",
            "Requirement already satisfied: certifi>=2017.4.17 in /usr/local/lib/python3.10/dist-packages (from requests>=2.19.0->pooch->cdlib) (2024.2.2)\n",
            "Installing collected packages: texttable, thresholdclustering, rapidfuzz, pulp, igraph, eva-lcd, dynetx, demon, python-igraph, Levenshtein, python-Levenshtein, nf1, markov-clustering, bimlpa, angelcommunity, cdlib\n",
            "Successfully installed Levenshtein-0.25.0 angelcommunity-2.0.0 bimlpa-0.1.2 cdlib-0.3.0 demon-2.0.6 dynetx-0.3.2 eva-lcd-0.1.1 igraph-0.11.4 markov-clustering-0.0.6.dev0 nf1-0.0.4 pulp-2.8.0 python-Levenshtein-0.25.0 python-igraph-0.11.4 rapidfuzz-3.6.2 texttable-1.7.0 thresholdclustering-1.1\n"
          ]
        }
      ]
    },
    {
      "cell_type": "code",
      "source": [
        "import networkx as nx\n",
        "from cdlib.utils import convert_graph_formats\n",
        "from collections import defaultdict\n",
        "from collections import namedtuple\n",
        "\n",
        "\n",
        "\n",
        "def modularity_overlap_signed_new(\n",
        "    graph: nx.Graph, communities: list, weight: str = None\n",
        "):\n",
        "    \"\"\"Determines the Overlapping Modularity of a partition C on a graph G for signed networks.\n",
        "\n",
        "    Overlapping Modularity for signed networks is defined as\n",
        "\n",
        "     .. math:: Q_{c_{r}}^{ov} = \\\\frac{1}{2m^+ + 2m^-} \\\\sum_{i,j} \\\\frac{1}{O_i O_j} [A_{ij} - \\\\left(\\\\frac{d_i^+ d_j^+}{2m^+} - \\\\frac{d_i^- d_j^-}{2m^-}\\\\right)] \\\\delta(i, j)\n",
        "\n",
        "    where:\n",
        "        - \\(A_{ij}\\) is the weight of the edge between nodes \\(i\\) and \\(j\\),\n",
        "        - \\(d_i^+\\) and \\(d_i^-\\) are the positive and negative degrees of node \\(i\\), respectively,\n",
        "        - \\(2m^+\\) and \\(2m^-\\) are the sums of weights of positive and negative edges in the network, respectively,\n",
        "        - \\(O_i\\) and \\(O_j\\) are the number of communities which include vertex \\(i\\) and \\(j\\) respectively,\n",
        "        - \\(\\delta(i, j)\\) is the Kronecker delta function, equals to 1 when both nodes \\(i\\) and \\(j\\) belong to the same community, and 0 otherwise.\n",
        "\n",
        "    :param graph: a networkx/igraph object\n",
        "    :param communities: NodeClustering object\n",
        "    :param weight: label identifying the edge weight parameter name (if present), default None\n",
        "    :return: FitnessResult object\n",
        "\n",
        "    \"\"\"\n",
        "    FitnessResult = namedtuple(\"FitnessResult\", \"score\")\n",
        "    graph = convert_graph_formats(graph, nx.Graph)\n",
        "    E = len(graph.edges)\n",
        "    print('E:',E)\n",
        "\n",
        "    # Calculate positive and negative degrees\n",
        "    pos_degrees = {node: 0 for node in graph.nodes()}\n",
        "    neg_degrees = {node: 0 for node in graph.nodes()}\n",
        "    for u, v, data in graph.edges(data=True):\n",
        "        s = data.get('sign')\n",
        "        if s > 0:\n",
        "          pos_degrees[u]+=1\n",
        "          pos_degrees[v]+=1\n",
        "        else:\n",
        "          neg_degrees[u]+=1\n",
        "          neg_degrees[v]+=1\n",
        "\n",
        "    print('neg degree:',neg_degrees)\n",
        "    print('pos degree:',pos_degrees)\n",
        "\n",
        "    # Calculate total edge weight for positive and negative edges separately\n",
        "    total_pos_edge_weight = sum(s for u, v, s in graph.edges(data='sign') if s >= 0)\n",
        "    print('pos total:',total_pos_edge_weight)\n",
        "    total_neg_edge_weight = sum(abs(s) for u, v, s in graph.edges(data='sign') if s < 0)\n",
        "    print('neg total:',total_neg_edge_weight)\n",
        "\n",
        "    m_pos = total_pos_edge_weight / 2\n",
        "    m_neg = total_neg_edge_weight / 2\n",
        "\n",
        "    QovTotal = 0\n",
        "\n",
        "    for nodes in communities:\n",
        "        nCommNodes = len(nodes)\n",
        "\n",
        "        # the contribution of communities with 1 node is 0\n",
        "        if nCommNodes <= 1:\n",
        "            continue\n",
        "\n",
        "        for i in range(nCommNodes):\n",
        "            for j in range(i+1, nCommNodes):\n",
        "                node_i = nodes[i]\n",
        "                node_j = nodes[j]\n",
        "\n",
        "                # Calculate the Kronecker delta\n",
        "                delta = 1 if node_i in nodes and node_j in nodes else 0\n",
        "\n",
        "                # Calculate O_i and O_j\n",
        "                Oi = len([c for c in communities if node_i in c])\n",
        "                Oj = len([c for c in communities if node_j in c])\n",
        "\n",
        "                # Calculate the modularity contribution\n",
        "                # print(f\"node1:{node_i}\\nnode2:{node_j}\")\n",
        "                # a = graph.get_edge_data(node_i, node_j, default={'sign': 0}).get('sign',0)\n",
        "                # b = (pos_degrees[node_i] * pos_degrees[node_j]) / (2 * E)\n",
        "                # c = (neg_degrees[node_i] * neg_degrees[node_j]) / (2 * E)\n",
        "                # d = 1 / (Oi * Oj)\n",
        "                # print(f\"a:{a}\\nb:{b}\\nc:{c}\\nd:{d}\")\n",
        "                mod_contrib = ((graph.get_edge_data(node_i, node_j, default={'sign': 0}).get('sign',0)) -\n",
        "                               (((pos_degrees[node_i] * pos_degrees[node_j]) / (2 * E)) -\n",
        "                               ((neg_degrees[node_i] * neg_degrees[node_j]) / (2 * E)))) * (1 / (Oi * Oj))\n",
        "                # print(f\"mod:{mod_contrib}\")\n",
        "\n",
        "                QovTotal += mod_contrib * delta\n",
        "\n",
        "    QovTotal /= (2 * m_pos + 2 * m_neg)\n",
        "\n",
        "    return FitnessResult(score=QovTotal)\n"
      ],
      "metadata": {
        "id": "EZx-EIX_-2IK"
      },
      "execution_count": null,
      "outputs": []
    },
    {
      "cell_type": "code",
      "source": [
        "modularity_overlap_signed_new(pajek_graph, pajek_coms_6)"
      ],
      "metadata": {
        "colab": {
          "base_uri": "https://localhost:8080/"
        },
        "id": "cp9o1VxrLcYW",
        "outputId": "ada3430d-47a5-495a-a5fb-6ed22304dbf4"
      },
      "execution_count": null,
      "outputs": [
        {
          "output_type": "stream",
          "name": "stdout",
          "text": [
            "E: 45\n",
            "neg degree: {1: 5, 2: 5, 3: 5, 4: 5, 5: 6, 6: 5, 7: 6, 8: 5, 9: 5, 10: 7}\n",
            "pos degree: {1: 4, 2: 4, 3: 4, 4: 4, 5: 3, 6: 4, 7: 3, 8: 4, 9: 4, 10: 2}\n",
            "pos total: 18\n",
            "neg total: 27\n"
          ]
        },
        {
          "output_type": "execute_result",
          "data": {
            "text/plain": [
              "FitnessResult(score=0.4355555555555554)"
            ]
          },
          "metadata": {},
          "execution_count": 155
        }
      ]
    },
    {
      "cell_type": "code",
      "source": [
        "modularity_overlap_signed_new(highland_graph, highland_coms_6)"
      ],
      "metadata": {
        "colab": {
          "base_uri": "https://localhost:8080/"
        },
        "id": "Om9DIXdOTF7e",
        "outputId": "373855c7-6163-4daa-dcdf-2db470f74103"
      },
      "execution_count": null,
      "outputs": [
        {
          "output_type": "stream",
          "name": "stdout",
          "text": [
            "E: 58\n",
            "neg degree: {1: 5, 2: 5, 3: 2, 4: 1, 5: 4, 6: 5, 7: 0, 8: 1, 9: 4, 10: 3, 11: 5, 12: 4, 13: 4, 14: 3, 15: 6, 16: 6}\n",
            "pos degree: {1: 3, 2: 3, 3: 4, 4: 2, 5: 3, 6: 5, 7: 7, 8: 6, 9: 3, 10: 2, 11: 4, 12: 4, 13: 4, 14: 2, 15: 3, 16: 3}\n",
            "pos total: 29\n",
            "neg total: 29\n"
          ]
        },
        {
          "output_type": "execute_result",
          "data": {
            "text/plain": [
              "FitnessResult(score=0.4467895362663496)"
            ]
          },
          "metadata": {},
          "execution_count": 157
        }
      ]
    },
    {
      "cell_type": "code",
      "source": [
        "print(coms)"
      ],
      "metadata": {
        "colab": {
          "base_uri": "https://localhost:8080/"
        },
        "id": "NWpyrbT8RsSv",
        "outputId": "c0f4e1ad-97cd-4168-c062-9b8864143e9d"
      },
      "execution_count": null,
      "outputs": [
        {
          "output_type": "stream",
          "name": "stdout",
          "text": [
            "[[1, 6, 8, 15, 16], [1, 2, 5, 9, 10, 14], [3, 7, 8, 9, 10, 11, 14, 15], [9, 13, 5, 14], [11, 12]]\n"
          ]
        }
      ]
    },
    {
      "cell_type": "code",
      "source": [
        "modularity_overlap_signed_new(highland_graph, coms)"
      ],
      "metadata": {
        "colab": {
          "base_uri": "https://localhost:8080/"
        },
        "id": "ScV3Yauqbp43",
        "outputId": "82e510e3-f065-436e-b46f-3927ddabf699"
      },
      "execution_count": null,
      "outputs": [
        {
          "output_type": "stream",
          "name": "stdout",
          "text": [
            "neg degree: {1: 5, 2: 5, 3: 2, 4: 1, 5: 4, 6: 5, 7: 0, 8: 1, 9: 4, 10: 3, 11: 5, 12: 4, 13: 4, 14: 3, 15: 6, 16: 6}\n",
            "pos degree: {1: 3, 2: 3, 3: 4, 4: 2, 5: 3, 6: 5, 7: 7, 8: 6, 9: 3, 10: 2, 11: 4, 12: 4, 13: 4, 14: 2, 15: 3, 16: 3}\n",
            "pos total: 29\n",
            "neg total: 29\n",
            "node1:1\n",
            "node2:6\n",
            "a:-1\n",
            "b:0.12931034482758622\n",
            "c:0.21551724137931033\n",
            "d:0.5\n",
            "mod:-0.45689655172413796\n",
            "node1:1\n",
            "node2:8\n",
            "a:0\n",
            "b:0.15517241379310345\n",
            "c:0.04310344827586207\n",
            "d:0.25\n",
            "mod:-0.028017241379310345\n",
            "node1:1\n",
            "node2:15\n",
            "a:1\n",
            "b:0.07758620689655173\n",
            "c:0.25862068965517243\n",
            "d:0.25\n",
            "mod:0.2952586206896552\n",
            "node1:1\n",
            "node2:16\n",
            "a:1\n",
            "b:0.07758620689655173\n",
            "c:0.25862068965517243\n",
            "d:0.5\n",
            "mod:0.5905172413793104\n",
            "node1:6\n",
            "node2:8\n",
            "a:1\n",
            "b:0.25862068965517243\n",
            "c:0.04310344827586207\n",
            "d:0.5\n",
            "mod:0.3922413793103448\n",
            "node1:6\n",
            "node2:15\n",
            "a:0\n",
            "b:0.12931034482758622\n",
            "c:0.25862068965517243\n",
            "d:0.5\n",
            "mod:0.06465517241379311\n",
            "node1:6\n",
            "node2:16\n",
            "a:-1\n",
            "b:0.12931034482758622\n",
            "c:0.25862068965517243\n",
            "d:1.0\n",
            "mod:-0.8706896551724138\n",
            "node1:8\n",
            "node2:15\n",
            "a:0\n",
            "b:0.15517241379310345\n",
            "c:0.05172413793103448\n",
            "d:0.25\n",
            "mod:-0.025862068965517244\n",
            "node1:8\n",
            "node2:16\n",
            "a:0\n",
            "b:0.15517241379310345\n",
            "c:0.05172413793103448\n",
            "d:0.5\n",
            "mod:-0.05172413793103449\n",
            "node1:15\n",
            "node2:16\n",
            "a:1\n",
            "b:0.07758620689655173\n",
            "c:0.3103448275862069\n",
            "d:0.5\n",
            "mod:0.6163793103448276\n",
            "node1:1\n",
            "node2:2\n",
            "a:1\n",
            "b:0.07758620689655173\n",
            "c:0.21551724137931033\n",
            "d:0.5\n",
            "mod:0.5689655172413793\n",
            "node1:1\n",
            "node2:5\n",
            "a:-1\n",
            "b:0.07758620689655173\n",
            "c:0.1724137931034483\n",
            "d:0.25\n",
            "mod:-0.22629310344827586\n",
            "node1:1\n",
            "node2:9\n",
            "a:0\n",
            "b:0.07758620689655173\n",
            "c:0.1724137931034483\n",
            "d:0.16666666666666666\n",
            "mod:0.015804597701149427\n",
            "node1:1\n",
            "node2:10\n",
            "a:0\n",
            "b:0.05172413793103448\n",
            "c:0.12931034482758622\n",
            "d:0.25\n",
            "mod:0.019396551724137935\n",
            "node1:1\n",
            "node2:14\n",
            "a:0\n",
            "b:0.05172413793103448\n",
            "c:0.12931034482758622\n",
            "d:0.16666666666666666\n",
            "mod:0.012931034482758622\n",
            "node1:2\n",
            "node2:5\n",
            "a:-1\n",
            "b:0.07758620689655173\n",
            "c:0.1724137931034483\n",
            "d:0.5\n",
            "mod:-0.4525862068965517\n",
            "node1:2\n",
            "node2:9\n",
            "a:-1\n",
            "b:0.07758620689655173\n",
            "c:0.1724137931034483\n",
            "d:0.3333333333333333\n",
            "mod:-0.3017241379310345\n",
            "node1:2\n",
            "node2:10\n",
            "a:-1\n",
            "b:0.05172413793103448\n",
            "c:0.12931034482758622\n",
            "d:0.5\n",
            "mod:-0.46120689655172414\n",
            "node1:2\n",
            "node2:14\n",
            "a:0\n",
            "b:0.05172413793103448\n",
            "c:0.12931034482758622\n",
            "d:0.3333333333333333\n",
            "mod:0.025862068965517244\n",
            "node1:5\n",
            "node2:9\n",
            "a:1\n",
            "b:0.07758620689655173\n",
            "c:0.13793103448275862\n",
            "d:0.16666666666666666\n",
            "mod:0.17672413793103448\n",
            "node1:5\n",
            "node2:10\n",
            "a:0\n",
            "b:0.05172413793103448\n",
            "c:0.10344827586206896\n",
            "d:0.25\n",
            "mod:0.01293103448275862\n",
            "node1:5\n",
            "node2:14\n",
            "a:1\n",
            "b:0.05172413793103448\n",
            "c:0.10344827586206896\n",
            "d:0.16666666666666666\n",
            "mod:0.17528735632183906\n",
            "node1:9\n",
            "node2:10\n",
            "a:1\n",
            "b:0.05172413793103448\n",
            "c:0.10344827586206896\n",
            "d:0.16666666666666666\n",
            "mod:0.17528735632183906\n",
            "node1:9\n",
            "node2:14\n",
            "a:0\n",
            "b:0.05172413793103448\n",
            "c:0.10344827586206896\n",
            "d:0.1111111111111111\n",
            "mod:0.005747126436781609\n",
            "node1:10\n",
            "node2:14\n",
            "a:0\n",
            "b:0.034482758620689655\n",
            "c:0.07758620689655173\n",
            "d:0.16666666666666666\n",
            "mod:0.007183908045977011\n",
            "node1:3\n",
            "node2:7\n",
            "a:1\n",
            "b:0.2413793103448276\n",
            "c:0.0\n",
            "d:1.0\n",
            "mod:0.7586206896551724\n",
            "node1:3\n",
            "node2:8\n",
            "a:1\n",
            "b:0.20689655172413793\n",
            "c:0.017241379310344827\n",
            "d:0.5\n",
            "mod:0.4051724137931034\n",
            "node1:3\n",
            "node2:9\n",
            "a:0\n",
            "b:0.10344827586206896\n",
            "c:0.06896551724137931\n",
            "d:0.3333333333333333\n",
            "mod:-0.011494252873563218\n",
            "node1:3\n",
            "node2:10\n",
            "a:0\n",
            "b:0.06896551724137931\n",
            "c:0.05172413793103448\n",
            "d:0.5\n",
            "mod:-0.008620689655172414\n",
            "node1:3\n",
            "node2:11\n",
            "a:0\n",
            "b:0.13793103448275862\n",
            "c:0.08620689655172414\n",
            "d:0.5\n",
            "mod:-0.025862068965517238\n",
            "node1:3\n",
            "node2:14\n",
            "a:0\n",
            "b:0.06896551724137931\n",
            "c:0.05172413793103448\n",
            "d:0.3333333333333333\n",
            "mod:-0.005747126436781609\n",
            "node1:3\n",
            "node2:15\n",
            "a:0\n",
            "b:0.10344827586206896\n",
            "c:0.10344827586206896\n",
            "d:0.5\n",
            "mod:0.0\n",
            "node1:7\n",
            "node2:8\n",
            "a:1\n",
            "b:0.3620689655172414\n",
            "c:0.0\n",
            "d:0.5\n",
            "mod:0.31896551724137934\n",
            "node1:7\n",
            "node2:9\n",
            "a:0\n",
            "b:0.1810344827586207\n",
            "c:0.0\n",
            "d:0.3333333333333333\n",
            "mod:-0.06034482758620689\n",
            "node1:7\n",
            "node2:10\n",
            "a:0\n",
            "b:0.1206896551724138\n",
            "c:0.0\n",
            "d:0.5\n",
            "mod:-0.0603448275862069\n",
            "node1:7\n",
            "node2:11\n",
            "a:1\n",
            "b:0.2413793103448276\n",
            "c:0.0\n",
            "d:0.5\n",
            "mod:0.3793103448275862\n",
            "node1:7\n",
            "node2:14\n",
            "a:0\n",
            "b:0.1206896551724138\n",
            "c:0.0\n",
            "d:0.3333333333333333\n",
            "mod:-0.040229885057471264\n",
            "node1:7\n",
            "node2:15\n",
            "a:0\n",
            "b:0.1810344827586207\n",
            "c:0.0\n",
            "d:0.5\n",
            "mod:-0.09051724137931035\n",
            "node1:8\n",
            "node2:9\n",
            "a:0\n",
            "b:0.15517241379310345\n",
            "c:0.034482758620689655\n",
            "d:0.16666666666666666\n",
            "mod:-0.020114942528735632\n",
            "node1:8\n",
            "node2:10\n",
            "a:0\n",
            "b:0.10344827586206896\n",
            "c:0.02586206896551724\n",
            "d:0.25\n",
            "mod:-0.01939655172413793\n",
            "node1:8\n",
            "node2:11\n",
            "a:1\n",
            "b:0.20689655172413793\n",
            "c:0.04310344827586207\n",
            "d:0.25\n",
            "mod:0.20905172413793105\n",
            "node1:8\n",
            "node2:14\n",
            "a:-1\n",
            "b:0.10344827586206896\n",
            "c:0.02586206896551724\n",
            "d:0.16666666666666666\n",
            "mod:-0.1795977011494253\n",
            "node1:8\n",
            "node2:15\n",
            "a:0\n",
            "b:0.15517241379310345\n",
            "c:0.05172413793103448\n",
            "d:0.25\n",
            "mod:-0.025862068965517244\n",
            "node1:9\n",
            "node2:10\n",
            "a:1\n",
            "b:0.05172413793103448\n",
            "c:0.10344827586206896\n",
            "d:0.16666666666666666\n",
            "mod:0.17528735632183906\n",
            "node1:9\n",
            "node2:11\n",
            "a:-1\n",
            "b:0.10344827586206896\n",
            "c:0.1724137931034483\n",
            "d:0.16666666666666666\n",
            "mod:-0.15517241379310343\n",
            "node1:9\n",
            "node2:14\n",
            "a:0\n",
            "b:0.05172413793103448\n",
            "c:0.10344827586206896\n",
            "d:0.1111111111111111\n",
            "mod:0.005747126436781609\n",
            "node1:9\n",
            "node2:15\n",
            "a:-1\n",
            "b:0.07758620689655173\n",
            "c:0.20689655172413793\n",
            "d:0.16666666666666666\n",
            "mod:-0.14511494252873564\n",
            "node1:10\n",
            "node2:11\n",
            "a:-1\n",
            "b:0.06896551724137931\n",
            "c:0.12931034482758622\n",
            "d:0.25\n",
            "mod:-0.2349137931034483\n",
            "node1:10\n",
            "node2:14\n",
            "a:0\n",
            "b:0.034482758620689655\n",
            "c:0.07758620689655173\n",
            "d:0.16666666666666666\n",
            "mod:0.007183908045977011\n",
            "node1:10\n",
            "node2:15\n",
            "a:-1\n",
            "b:0.05172413793103448\n",
            "c:0.15517241379310345\n",
            "d:0.25\n",
            "mod:-0.22413793103448276\n",
            "node1:11\n",
            "node2:14\n",
            "a:0\n",
            "b:0.06896551724137931\n",
            "c:0.12931034482758622\n",
            "d:0.16666666666666666\n",
            "mod:0.010057471264367818\n",
            "node1:11\n",
            "node2:15\n",
            "a:-1\n",
            "b:0.10344827586206896\n",
            "c:0.25862068965517243\n",
            "d:0.25\n",
            "mod:-0.21120689655172414\n",
            "node1:14\n",
            "node2:15\n",
            "a:0\n",
            "b:0.05172413793103448\n",
            "c:0.15517241379310345\n",
            "d:0.16666666666666666\n",
            "mod:0.017241379310344827\n",
            "node1:9\n",
            "node2:13\n",
            "a:1\n",
            "b:0.10344827586206896\n",
            "c:0.13793103448275862\n",
            "d:0.3333333333333333\n",
            "mod:0.3448275862068966\n",
            "node1:9\n",
            "node2:5\n",
            "a:1\n",
            "b:0.07758620689655173\n",
            "c:0.13793103448275862\n",
            "d:0.16666666666666666\n",
            "mod:0.17672413793103448\n",
            "node1:9\n",
            "node2:14\n",
            "a:0\n",
            "b:0.05172413793103448\n",
            "c:0.10344827586206896\n",
            "d:0.1111111111111111\n",
            "mod:0.005747126436781609\n",
            "node1:13\n",
            "node2:5\n",
            "a:0\n",
            "b:0.10344827586206896\n",
            "c:0.13793103448275862\n",
            "d:0.5\n",
            "mod:0.017241379310344827\n",
            "node1:13\n",
            "node2:14\n",
            "a:1\n",
            "b:0.06896551724137931\n",
            "c:0.10344827586206896\n",
            "d:0.3333333333333333\n",
            "mod:0.3448275862068966\n",
            "node1:5\n",
            "node2:14\n",
            "a:1\n",
            "b:0.05172413793103448\n",
            "c:0.10344827586206896\n",
            "d:0.16666666666666666\n",
            "mod:0.17528735632183906\n",
            "node1:11\n",
            "node2:12\n",
            "a:1\n",
            "b:0.13793103448275862\n",
            "c:0.1724137931034483\n",
            "d:0.5\n",
            "mod:0.5172413793103449\n"
          ]
        },
        {
          "output_type": "execute_result",
          "data": {
            "text/plain": [
              "FitnessResult(score=0.0453453230281411)"
            ]
          },
          "metadata": {},
          "execution_count": 176
        }
      ]
    },
    {
      "cell_type": "code",
      "source": [
        "modularity_overlap_signed_new(highland_graph, coms1)"
      ],
      "metadata": {
        "colab": {
          "base_uri": "https://localhost:8080/"
        },
        "id": "I2EqsJHJ7yit",
        "outputId": "94e746db-d094-4dfe-dac0-0c9d7cedcd15"
      },
      "execution_count": null,
      "outputs": [
        {
          "output_type": "stream",
          "name": "stdout",
          "text": [
            "neg degree: {1: 5, 2: 5, 3: 2, 4: 1, 5: 4, 6: 5, 7: 0, 8: 1, 9: 4, 10: 3, 11: 5, 12: 4, 13: 4, 14: 3, 15: 6, 16: 6}\n",
            "pos degree: {1: 3, 2: 3, 3: 4, 4: 2, 5: 3, 6: 5, 7: 7, 8: 6, 9: 3, 10: 2, 11: 4, 12: 4, 13: 4, 14: 2, 15: 3, 16: 3}\n",
            "pos total: 29\n",
            "neg total: 29\n",
            "O16: 1\n",
            "\n",
            "O16: 1\n",
            "\n",
            "O16: 1\n",
            "\n",
            "O1: 1\n",
            "\n",
            "O1: 1\n",
            "\n",
            "O2: 1\n",
            "\n",
            "O3: 1\n",
            "\n",
            "O3: 1\n",
            "\n",
            "O3: 1\n",
            "\n",
            "O3: 1\n",
            "\n",
            "O3: 1\n",
            "\n",
            "O3: 1\n",
            "\n",
            "O3: 1\n",
            "\n",
            "O4: 1\n",
            "\n",
            "O4: 1\n",
            "\n",
            "O4: 1\n",
            "\n",
            "O4: 1\n",
            "\n",
            "O4: 1\n",
            "\n",
            "O4: 1\n",
            "\n",
            "O5: 2\n",
            "\n",
            "O5: 2\n",
            "\n",
            "O5: 2\n",
            "\n",
            "O5: 2\n",
            "\n",
            "O5: 2\n",
            "\n",
            "O6: 1\n",
            "\n",
            "O6: 1\n",
            "\n",
            "O6: 1\n",
            "\n",
            "O6: 1\n",
            "\n",
            "O7: 1\n",
            "\n",
            "O7: 1\n",
            "\n",
            "O7: 1\n",
            "\n",
            "O8: 1\n",
            "\n",
            "O8: 1\n",
            "\n",
            "O11: 1\n",
            "\n",
            "O5: 2\n",
            "\n",
            "O5: 2\n",
            "\n",
            "O5: 2\n",
            "\n",
            "O5: 2\n",
            "\n",
            "O9: 1\n",
            "\n",
            "O9: 1\n",
            "\n",
            "O9: 1\n",
            "\n",
            "O10: 1\n",
            "\n",
            "O10: 1\n",
            "\n",
            "O13: 1\n",
            "\n"
          ]
        },
        {
          "output_type": "execute_result",
          "data": {
            "text/plain": [
              "FitnessResult(score=0.43467598097502974)"
            ]
          },
          "metadata": {},
          "execution_count": 143
        }
      ]
    },
    {
      "cell_type": "code",
      "source": [
        "\n",
        "\n",
        "def modularity_overlap_signed_v3(\n",
        "    graph: nx.Graph, communities: object, weight: str = None\n",
        ") -> FitnessResult:\n",
        "    \"\"\"Determines the Overlapping Modularity of a partition C on a graph G for signed networks.\n",
        "\n",
        "    Overlapping Modularity for signed networks is defined as\n",
        "\n",
        "     .. math:: Q_{ov} = \\\\frac{1}{2m^+ + 2m^-} \\\\sum_{(i,j)} \\\\frac{1}{O_i O_j} [a_{ij} - \\\\frac{d_i^+ d_j^+}{2m^+} - \\\\frac{d_i^- d_j^-}{2m^-}] \\\\delta(i, j)\n",
        "\n",
        "    where:\n",
        "        - \\(a_{ij}\\) is the weight of the edge between nodes \\(i\\) and \\(j\\),\n",
        "        - \\(d_i^+\\) and \\(d_i^-\\) are the positive and negative degrees of node \\(i\\), respectively,\n",
        "        - \\(2m^+\\) and \\(2m^-\\) are the sum of weights of positive and negative edges in the network, respectively,\n",
        "        - \\(O_i\\) and \\(O_j\\) are the number of communities which include vertex \\(v_i\\) and \\(v_j\\) respectively.\n",
        "\n",
        "    :param graph: a networkx/igraph object\n",
        "    :param communities: NodeClustering object\n",
        "    :param weight: label identifying the edge weight parameter name (if present), default None\n",
        "    :return: FitnessResult object\n",
        "\n",
        "\n",
        "    Example:\n",
        "\n",
        "    >>> from cdlib.algorithms import louvain\n",
        "    >>> from cdlib import evaluation\n",
        "    >>> g = nx.karate_club_graph()\n",
        "    >>> communities = louvain(g)\n",
        "    >>> mod = evaluation.modularity_overlap_signed_v3(g, communities)\n",
        "\n",
        "    :References:\n",
        "\n",
        "    1. A. Lazar, D. Abel and T. Vicsek, \"Modularity measure of networks with overlapping communities\"  EPL, 90 (2010) 18001 doi: 10.1209/0295-5075/90/18001\n",
        "\n",
        "    .. note:: Reference implementation: https://github.com/aonghus/nxtools/blob/master/nxtools/algorithms/community/quality.py\n",
        "    \"\"\"\n",
        "\n",
        "    graph = convert_graph_formats(graph, nx.Graph)\n",
        "\n",
        "    # Calculate positive and negative degrees\n",
        "    pos_degrees = dict(graph.degree(weight=weight))\n",
        "    neg_degrees = {node: 0 for node in graph.nodes()}\n",
        "    for u, v, data in graph.edges(data=True):\n",
        "        w = data.get(weight, 1)\n",
        "        if w < 0:\n",
        "            neg_degrees[u] += abs(w)\n",
        "            neg_degrees[v] += abs(w)\n",
        "\n",
        "    # Calculate total edge weight for positive and negative edges\n",
        "    total_edge_weight_pos = sum(max(data.get(weight, 1), 0) for _, _, data in graph.edges(data=True))\n",
        "    total_edge_weight_neg = sum(max(-data.get(weight, 1), 0) for _, _, data in graph.edges(data=True))\n",
        "\n",
        "    mOvTotal = 0\n",
        "\n",
        "    for nodes in communities.communities:\n",
        "        nCommNodes = len(nodes)\n",
        "\n",
        "        # the contribution of communities with 1 node is 0\n",
        "        if nCommNodes <= 1:\n",
        "            continue\n",
        "\n",
        "        for i in range(len(nodes)):\n",
        "            for j in range(i + 1, len(nodes)):\n",
        "                node_i = nodes[i]\n",
        "                node_j = nodes[j]\n",
        "                weight_ij = graph.get_edge_data(node_i, node_j, default={weight: 0}).get(weight, 0)\n",
        "\n",
        "                delta = 1 if node_i in nodes and node_j in nodes else 0\n",
        "\n",
        "                oi = len([c for c in communities.communities if node_i in c])\n",
        "                oj = len([c for c in communities.communities if node_j in c])\n",
        "\n",
        "                mod_contrib = weight_ij - (pos_degrees[node_i] * pos_degrees[node_j] / (2 * total_edge_weight_pos)) - (\n",
        "                    neg_degrees[node_i] * neg_degrees[node_j] / (2 * total_edge_weight_neg)\n",
        "                )\n",
        "\n",
        "                mod_contrib *= 1 / (oi * oj) * delta\n",
        "\n",
        "                mOvTotal += mod_contrib\n",
        "\n",
        "    total_edge_weight = total_edge_weight_pos + total_edge_weight_neg\n",
        "    total_edge_weight *= 2  # Account for both positive and negative edges\n",
        "\n",
        "    score = mOvTotal / total_edge_weight\n",
        "    return FitnessResult(score=score)\n"
      ],
      "metadata": {
        "id": "Al0KeLtwFQAz",
        "colab": {
          "base_uri": "https://localhost:8080/",
          "height": 216
        },
        "outputId": "3b0b3cd1-752f-4ba2-dd87-3e1cda29f14e"
      },
      "execution_count": null,
      "outputs": [
        {
          "output_type": "error",
          "ename": "NameError",
          "evalue": "name 'FitnessResult' is not defined",
          "traceback": [
            "\u001b[0;31m---------------------------------------------------------------------------\u001b[0m",
            "\u001b[0;31mNameError\u001b[0m                                 Traceback (most recent call last)",
            "\u001b[0;32m<ipython-input-3-5ac2b3f74c80>\u001b[0m in \u001b[0;36m<cell line: 2>\u001b[0;34m()\u001b[0m\n\u001b[1;32m      1\u001b[0m def modularity_overlap_signed_v3(\n\u001b[1;32m      2\u001b[0m     \u001b[0mgraph\u001b[0m\u001b[0;34m:\u001b[0m \u001b[0mnx\u001b[0m\u001b[0;34m.\u001b[0m\u001b[0mGraph\u001b[0m\u001b[0;34m,\u001b[0m \u001b[0mcommunities\u001b[0m\u001b[0;34m:\u001b[0m \u001b[0mobject\u001b[0m\u001b[0;34m,\u001b[0m \u001b[0mweight\u001b[0m\u001b[0;34m:\u001b[0m \u001b[0mstr\u001b[0m \u001b[0;34m=\u001b[0m \u001b[0;32mNone\u001b[0m\u001b[0;34m\u001b[0m\u001b[0;34m\u001b[0m\u001b[0m\n\u001b[0;32m----> 3\u001b[0;31m ) -> FitnessResult:\n\u001b[0m\u001b[1;32m      4\u001b[0m     \"\"\"Determines the Overlapping Modularity of a partition C on a graph G for signed networks.\n\u001b[1;32m      5\u001b[0m \u001b[0;34m\u001b[0m\u001b[0m\n",
            "\u001b[0;31mNameError\u001b[0m: name 'FitnessResult' is not defined"
          ]
        }
      ]
    }
  ],
  "metadata": {
    "colab": {
      "provenance": []
    },
    "kernelspec": {
      "display_name": "Python 3",
      "name": "python3"
    },
    "language_info": {
      "name": "python"
    }
  },
  "nbformat": 4,
  "nbformat_minor": 0
}